{
  "nbformat": 4,
  "nbformat_minor": 0,
  "metadata": {
    "colab": {
      "provenance": []
    },
    "kernelspec": {
      "name": "python3",
      "display_name": "Python 3"
    },
    "language_info": {
      "name": "python"
    }
  },
  "cells": [
    {
      "cell_type": "code",
      "execution_count": null,
      "metadata": {
        "id": "ddHeSdAL8_4F"
      },
      "outputs": [],
      "source": [
        "import pandas as pd\n",
        "import numpy as np\n",
        "import seaborn as sns\n",
        "import matplotlib.pyplot as plt"
      ]
    },
    {
      "cell_type": "code",
      "source": [
        "data = pd.read_csv('/content/states.csv')"
      ],
      "metadata": {
        "id": "zv7HnkMZ9NtD"
      },
      "execution_count": null,
      "outputs": []
    },
    {
      "cell_type": "code",
      "source": [
        "data.head()"
      ],
      "metadata": {
        "colab": {
          "base_uri": "https://localhost:8080/",
          "height": 204
        },
        "id": "E2zedXCI9TCJ",
        "outputId": "b6d13f20-66a7-472a-f11a-20add8739efb"
      },
      "execution_count": null,
      "outputs": [
        {
          "output_type": "execute_result",
          "data": {
            "text/plain": [
              "        state  metro_res  white  hs_grad  poverty  female_house\n",
              "0     Alabama       55.4   71.3     79.9     14.6          14.2\n",
              "1      Alaska       65.6   70.8     90.6      8.3          10.8\n",
              "2     Arizona       88.2   87.7     83.8     13.3          11.1\n",
              "3    Arkansas       52.5   81.0     80.9     18.0          12.1\n",
              "4  California       94.4   77.5     81.1     12.8          12.6"
            ],
            "text/html": [
              "\n",
              "  <div id=\"df-cd35d559-f7d3-4187-bcfd-cd924eece1a9\" class=\"colab-df-container\">\n",
              "    <div>\n",
              "<style scoped>\n",
              "    .dataframe tbody tr th:only-of-type {\n",
              "        vertical-align: middle;\n",
              "    }\n",
              "\n",
              "    .dataframe tbody tr th {\n",
              "        vertical-align: top;\n",
              "    }\n",
              "\n",
              "    .dataframe thead th {\n",
              "        text-align: right;\n",
              "    }\n",
              "</style>\n",
              "<table border=\"1\" class=\"dataframe\">\n",
              "  <thead>\n",
              "    <tr style=\"text-align: right;\">\n",
              "      <th></th>\n",
              "      <th>state</th>\n",
              "      <th>metro_res</th>\n",
              "      <th>white</th>\n",
              "      <th>hs_grad</th>\n",
              "      <th>poverty</th>\n",
              "      <th>female_house</th>\n",
              "    </tr>\n",
              "  </thead>\n",
              "  <tbody>\n",
              "    <tr>\n",
              "      <th>0</th>\n",
              "      <td>Alabama</td>\n",
              "      <td>55.4</td>\n",
              "      <td>71.3</td>\n",
              "      <td>79.9</td>\n",
              "      <td>14.6</td>\n",
              "      <td>14.2</td>\n",
              "    </tr>\n",
              "    <tr>\n",
              "      <th>1</th>\n",
              "      <td>Alaska</td>\n",
              "      <td>65.6</td>\n",
              "      <td>70.8</td>\n",
              "      <td>90.6</td>\n",
              "      <td>8.3</td>\n",
              "      <td>10.8</td>\n",
              "    </tr>\n",
              "    <tr>\n",
              "      <th>2</th>\n",
              "      <td>Arizona</td>\n",
              "      <td>88.2</td>\n",
              "      <td>87.7</td>\n",
              "      <td>83.8</td>\n",
              "      <td>13.3</td>\n",
              "      <td>11.1</td>\n",
              "    </tr>\n",
              "    <tr>\n",
              "      <th>3</th>\n",
              "      <td>Arkansas</td>\n",
              "      <td>52.5</td>\n",
              "      <td>81.0</td>\n",
              "      <td>80.9</td>\n",
              "      <td>18.0</td>\n",
              "      <td>12.1</td>\n",
              "    </tr>\n",
              "    <tr>\n",
              "      <th>4</th>\n",
              "      <td>California</td>\n",
              "      <td>94.4</td>\n",
              "      <td>77.5</td>\n",
              "      <td>81.1</td>\n",
              "      <td>12.8</td>\n",
              "      <td>12.6</td>\n",
              "    </tr>\n",
              "  </tbody>\n",
              "</table>\n",
              "</div>\n",
              "    <div class=\"colab-df-buttons\">\n",
              "\n",
              "  <div class=\"colab-df-container\">\n",
              "    <button class=\"colab-df-convert\" onclick=\"convertToInteractive('df-cd35d559-f7d3-4187-bcfd-cd924eece1a9')\"\n",
              "            title=\"Convert this dataframe to an interactive table.\"\n",
              "            style=\"display:none;\">\n",
              "\n",
              "  <svg xmlns=\"http://www.w3.org/2000/svg\" height=\"24px\" viewBox=\"0 -960 960 960\">\n",
              "    <path d=\"M120-120v-720h720v720H120Zm60-500h600v-160H180v160Zm220 220h160v-160H400v160Zm0 220h160v-160H400v160ZM180-400h160v-160H180v160Zm440 0h160v-160H620v160ZM180-180h160v-160H180v160Zm440 0h160v-160H620v160Z\"/>\n",
              "  </svg>\n",
              "    </button>\n",
              "\n",
              "  <style>\n",
              "    .colab-df-container {\n",
              "      display:flex;\n",
              "      gap: 12px;\n",
              "    }\n",
              "\n",
              "    .colab-df-convert {\n",
              "      background-color: #E8F0FE;\n",
              "      border: none;\n",
              "      border-radius: 50%;\n",
              "      cursor: pointer;\n",
              "      display: none;\n",
              "      fill: #1967D2;\n",
              "      height: 32px;\n",
              "      padding: 0 0 0 0;\n",
              "      width: 32px;\n",
              "    }\n",
              "\n",
              "    .colab-df-convert:hover {\n",
              "      background-color: #E2EBFA;\n",
              "      box-shadow: 0px 1px 2px rgba(60, 64, 67, 0.3), 0px 1px 3px 1px rgba(60, 64, 67, 0.15);\n",
              "      fill: #174EA6;\n",
              "    }\n",
              "\n",
              "    .colab-df-buttons div {\n",
              "      margin-bottom: 4px;\n",
              "    }\n",
              "\n",
              "    [theme=dark] .colab-df-convert {\n",
              "      background-color: #3B4455;\n",
              "      fill: #D2E3FC;\n",
              "    }\n",
              "\n",
              "    [theme=dark] .colab-df-convert:hover {\n",
              "      background-color: #434B5C;\n",
              "      box-shadow: 0px 1px 3px 1px rgba(0, 0, 0, 0.15);\n",
              "      filter: drop-shadow(0px 1px 2px rgba(0, 0, 0, 0.3));\n",
              "      fill: #FFFFFF;\n",
              "    }\n",
              "  </style>\n",
              "\n",
              "    <script>\n",
              "      const buttonEl =\n",
              "        document.querySelector('#df-cd35d559-f7d3-4187-bcfd-cd924eece1a9 button.colab-df-convert');\n",
              "      buttonEl.style.display =\n",
              "        google.colab.kernel.accessAllowed ? 'block' : 'none';\n",
              "\n",
              "      async function convertToInteractive(key) {\n",
              "        const element = document.querySelector('#df-cd35d559-f7d3-4187-bcfd-cd924eece1a9');\n",
              "        const dataTable =\n",
              "          await google.colab.kernel.invokeFunction('convertToInteractive',\n",
              "                                                    [key], {});\n",
              "        if (!dataTable) return;\n",
              "\n",
              "        const docLinkHtml = 'Like what you see? Visit the ' +\n",
              "          '<a target=\"_blank\" href=https://colab.research.google.com/notebooks/data_table.ipynb>data table notebook</a>'\n",
              "          + ' to learn more about interactive tables.';\n",
              "        element.innerHTML = '';\n",
              "        dataTable['output_type'] = 'display_data';\n",
              "        await google.colab.output.renderOutput(dataTable, element);\n",
              "        const docLink = document.createElement('div');\n",
              "        docLink.innerHTML = docLinkHtml;\n",
              "        element.appendChild(docLink);\n",
              "      }\n",
              "    </script>\n",
              "  </div>\n",
              "\n",
              "\n",
              "    <div id=\"df-3ababe66-0374-446e-a735-40ca2437a2de\">\n",
              "      <button class=\"colab-df-quickchart\" onclick=\"quickchart('df-3ababe66-0374-446e-a735-40ca2437a2de')\"\n",
              "                title=\"Suggest charts\"\n",
              "                style=\"display:none;\">\n",
              "\n",
              "<svg xmlns=\"http://www.w3.org/2000/svg\" height=\"24px\"viewBox=\"0 0 24 24\"\n",
              "     width=\"24px\">\n",
              "    <g>\n",
              "        <path d=\"M19 3H5c-1.1 0-2 .9-2 2v14c0 1.1.9 2 2 2h14c1.1 0 2-.9 2-2V5c0-1.1-.9-2-2-2zM9 17H7v-7h2v7zm4 0h-2V7h2v10zm4 0h-2v-4h2v4z\"/>\n",
              "    </g>\n",
              "</svg>\n",
              "      </button>\n",
              "\n",
              "<style>\n",
              "  .colab-df-quickchart {\n",
              "      --bg-color: #E8F0FE;\n",
              "      --fill-color: #1967D2;\n",
              "      --hover-bg-color: #E2EBFA;\n",
              "      --hover-fill-color: #174EA6;\n",
              "      --disabled-fill-color: #AAA;\n",
              "      --disabled-bg-color: #DDD;\n",
              "  }\n",
              "\n",
              "  [theme=dark] .colab-df-quickchart {\n",
              "      --bg-color: #3B4455;\n",
              "      --fill-color: #D2E3FC;\n",
              "      --hover-bg-color: #434B5C;\n",
              "      --hover-fill-color: #FFFFFF;\n",
              "      --disabled-bg-color: #3B4455;\n",
              "      --disabled-fill-color: #666;\n",
              "  }\n",
              "\n",
              "  .colab-df-quickchart {\n",
              "    background-color: var(--bg-color);\n",
              "    border: none;\n",
              "    border-radius: 50%;\n",
              "    cursor: pointer;\n",
              "    display: none;\n",
              "    fill: var(--fill-color);\n",
              "    height: 32px;\n",
              "    padding: 0;\n",
              "    width: 32px;\n",
              "  }\n",
              "\n",
              "  .colab-df-quickchart:hover {\n",
              "    background-color: var(--hover-bg-color);\n",
              "    box-shadow: 0 1px 2px rgba(60, 64, 67, 0.3), 0 1px 3px 1px rgba(60, 64, 67, 0.15);\n",
              "    fill: var(--button-hover-fill-color);\n",
              "  }\n",
              "\n",
              "  .colab-df-quickchart-complete:disabled,\n",
              "  .colab-df-quickchart-complete:disabled:hover {\n",
              "    background-color: var(--disabled-bg-color);\n",
              "    fill: var(--disabled-fill-color);\n",
              "    box-shadow: none;\n",
              "  }\n",
              "\n",
              "  .colab-df-spinner {\n",
              "    border: 2px solid var(--fill-color);\n",
              "    border-color: transparent;\n",
              "    border-bottom-color: var(--fill-color);\n",
              "    animation:\n",
              "      spin 1s steps(1) infinite;\n",
              "  }\n",
              "\n",
              "  @keyframes spin {\n",
              "    0% {\n",
              "      border-color: transparent;\n",
              "      border-bottom-color: var(--fill-color);\n",
              "      border-left-color: var(--fill-color);\n",
              "    }\n",
              "    20% {\n",
              "      border-color: transparent;\n",
              "      border-left-color: var(--fill-color);\n",
              "      border-top-color: var(--fill-color);\n",
              "    }\n",
              "    30% {\n",
              "      border-color: transparent;\n",
              "      border-left-color: var(--fill-color);\n",
              "      border-top-color: var(--fill-color);\n",
              "      border-right-color: var(--fill-color);\n",
              "    }\n",
              "    40% {\n",
              "      border-color: transparent;\n",
              "      border-right-color: var(--fill-color);\n",
              "      border-top-color: var(--fill-color);\n",
              "    }\n",
              "    60% {\n",
              "      border-color: transparent;\n",
              "      border-right-color: var(--fill-color);\n",
              "    }\n",
              "    80% {\n",
              "      border-color: transparent;\n",
              "      border-right-color: var(--fill-color);\n",
              "      border-bottom-color: var(--fill-color);\n",
              "    }\n",
              "    90% {\n",
              "      border-color: transparent;\n",
              "      border-bottom-color: var(--fill-color);\n",
              "    }\n",
              "  }\n",
              "</style>\n",
              "\n",
              "      <script>\n",
              "        async function quickchart(key) {\n",
              "          const quickchartButtonEl =\n",
              "            document.querySelector('#' + key + ' button');\n",
              "          quickchartButtonEl.disabled = true;  // To prevent multiple clicks.\n",
              "          quickchartButtonEl.classList.add('colab-df-spinner');\n",
              "          try {\n",
              "            const charts = await google.colab.kernel.invokeFunction(\n",
              "                'suggestCharts', [key], {});\n",
              "          } catch (error) {\n",
              "            console.error('Error during call to suggestCharts:', error);\n",
              "          }\n",
              "          quickchartButtonEl.classList.remove('colab-df-spinner');\n",
              "          quickchartButtonEl.classList.add('colab-df-quickchart-complete');\n",
              "        }\n",
              "        (() => {\n",
              "          let quickchartButtonEl =\n",
              "            document.querySelector('#df-3ababe66-0374-446e-a735-40ca2437a2de button');\n",
              "          quickchartButtonEl.style.display =\n",
              "            google.colab.kernel.accessAllowed ? 'block' : 'none';\n",
              "        })();\n",
              "      </script>\n",
              "    </div>\n",
              "    </div>\n",
              "  </div>\n"
            ],
            "application/vnd.google.colaboratory.intrinsic+json": {
              "type": "dataframe",
              "variable_name": "data",
              "summary": "{\n  \"name\": \"data\",\n  \"rows\": 51,\n  \"fields\": [\n    {\n      \"column\": \"state\",\n      \"properties\": {\n        \"dtype\": \"string\",\n        \"num_unique_values\": 51,\n        \"samples\": [\n          \"Texas\",\n          \"South  Carolina\",\n          \"Virginia\"\n        ],\n        \"semantic_type\": \"\",\n        \"description\": \"\"\n      }\n    },\n    {\n      \"column\": \"metro_res\",\n      \"properties\": {\n        \"dtype\": \"number\",\n        \"std\": 15.275894377076838,\n        \"min\": 38.2,\n        \"max\": 100.0,\n        \"num_unique_values\": 48,\n        \"samples\": [\n          69.8,\n          63.6,\n          54.1\n        ],\n        \"semantic_type\": \"\",\n        \"description\": \"\"\n      }\n    },\n    {\n      \"column\": \"white\",\n      \"properties\": {\n        \"dtype\": \"number\",\n        \"std\": 13.897223026314908,\n        \"min\": 25.9,\n        \"max\": 97.1,\n        \"num_unique_values\": 49,\n        \"samples\": [\n          79.5,\n          85.5,\n          90.1\n        ],\n        \"semantic_type\": \"\",\n        \"description\": \"\"\n      }\n    },\n    {\n      \"column\": \"hs_grad\",\n      \"properties\": {\n        \"dtype\": \"number\",\n        \"std\": 3.7259976950515425,\n        \"min\": 77.2,\n        \"max\": 92.1,\n        \"num_unique_values\": 44,\n        \"samples\": [\n          77.2,\n          90.1,\n          90.8\n        ],\n        \"semantic_type\": \"\",\n        \"description\": \"\"\n      }\n    },\n    {\n      \"column\": \"poverty\",\n      \"properties\": {\n        \"dtype\": \"number\",\n        \"std\": 3.099185218667617,\n        \"min\": 5.6,\n        \"max\": 18.0,\n        \"num_unique_values\": 40,\n        \"samples\": [\n          10.3,\n          11.3,\n          17.0\n        ],\n        \"semantic_type\": \"\",\n        \"description\": \"\"\n      }\n    },\n    {\n      \"column\": \"female_house\",\n      \"properties\": {\n        \"dtype\": \"number\",\n        \"std\": 2.356155059979429,\n        \"min\": 7.8,\n        \"max\": 18.9,\n        \"num_unique_values\": 37,\n        \"samples\": [\n          9.5,\n          8.6,\n          12.6\n        ],\n        \"semantic_type\": \"\",\n        \"description\": \"\"\n      }\n    }\n  ]\n}"
            }
          },
          "metadata": {},
          "execution_count": 29
        }
      ]
    },
    {
      "cell_type": "code",
      "source": [
        "data.info()"
      ],
      "metadata": {
        "colab": {
          "base_uri": "https://localhost:8080/"
        },
        "collapsed": true,
        "id": "E5E1t8qu99Vr",
        "outputId": "8266b8b7-2bbd-4cb1-b94a-7005dc1b51cf"
      },
      "execution_count": null,
      "outputs": [
        {
          "output_type": "stream",
          "name": "stdout",
          "text": [
            "<class 'pandas.core.frame.DataFrame'>\n",
            "RangeIndex: 51 entries, 0 to 50\n",
            "Data columns (total 6 columns):\n",
            " #   Column        Non-Null Count  Dtype  \n",
            "---  ------        --------------  -----  \n",
            " 0   state         51 non-null     object \n",
            " 1   metro_res     51 non-null     float64\n",
            " 2   white         51 non-null     float64\n",
            " 3   hs_grad       51 non-null     float64\n",
            " 4   poverty       51 non-null     float64\n",
            " 5   female_house  51 non-null     float64\n",
            "dtypes: float64(5), object(1)\n",
            "memory usage: 2.5+ KB\n"
          ]
        }
      ]
    },
    {
      "cell_type": "code",
      "source": [
        "data.drop('state', axis=1, inplace=True)"
      ],
      "metadata": {
        "id": "VXWKAPfF_xme"
      },
      "execution_count": null,
      "outputs": []
    },
    {
      "cell_type": "code",
      "source": [
        "data.head(1)"
      ],
      "metadata": {
        "colab": {
          "base_uri": "https://localhost:8080/",
          "height": 80
        },
        "id": "MIhGfoBs_8wC",
        "outputId": "ff342bfd-cc4f-4faa-b4a5-600a7330e514"
      },
      "execution_count": null,
      "outputs": [
        {
          "output_type": "execute_result",
          "data": {
            "text/plain": [
              "   metro_res  white  hs_grad  poverty  female_house\n",
              "0       55.4   71.3     79.9     14.6          14.2"
            ],
            "text/html": [
              "\n",
              "  <div id=\"df-206f3dac-b499-4331-ad53-5a260f20acef\" class=\"colab-df-container\">\n",
              "    <div>\n",
              "<style scoped>\n",
              "    .dataframe tbody tr th:only-of-type {\n",
              "        vertical-align: middle;\n",
              "    }\n",
              "\n",
              "    .dataframe tbody tr th {\n",
              "        vertical-align: top;\n",
              "    }\n",
              "\n",
              "    .dataframe thead th {\n",
              "        text-align: right;\n",
              "    }\n",
              "</style>\n",
              "<table border=\"1\" class=\"dataframe\">\n",
              "  <thead>\n",
              "    <tr style=\"text-align: right;\">\n",
              "      <th></th>\n",
              "      <th>metro_res</th>\n",
              "      <th>white</th>\n",
              "      <th>hs_grad</th>\n",
              "      <th>poverty</th>\n",
              "      <th>female_house</th>\n",
              "    </tr>\n",
              "  </thead>\n",
              "  <tbody>\n",
              "    <tr>\n",
              "      <th>0</th>\n",
              "      <td>55.4</td>\n",
              "      <td>71.3</td>\n",
              "      <td>79.9</td>\n",
              "      <td>14.6</td>\n",
              "      <td>14.2</td>\n",
              "    </tr>\n",
              "  </tbody>\n",
              "</table>\n",
              "</div>\n",
              "    <div class=\"colab-df-buttons\">\n",
              "\n",
              "  <div class=\"colab-df-container\">\n",
              "    <button class=\"colab-df-convert\" onclick=\"convertToInteractive('df-206f3dac-b499-4331-ad53-5a260f20acef')\"\n",
              "            title=\"Convert this dataframe to an interactive table.\"\n",
              "            style=\"display:none;\">\n",
              "\n",
              "  <svg xmlns=\"http://www.w3.org/2000/svg\" height=\"24px\" viewBox=\"0 -960 960 960\">\n",
              "    <path d=\"M120-120v-720h720v720H120Zm60-500h600v-160H180v160Zm220 220h160v-160H400v160Zm0 220h160v-160H400v160ZM180-400h160v-160H180v160Zm440 0h160v-160H620v160ZM180-180h160v-160H180v160Zm440 0h160v-160H620v160Z\"/>\n",
              "  </svg>\n",
              "    </button>\n",
              "\n",
              "  <style>\n",
              "    .colab-df-container {\n",
              "      display:flex;\n",
              "      gap: 12px;\n",
              "    }\n",
              "\n",
              "    .colab-df-convert {\n",
              "      background-color: #E8F0FE;\n",
              "      border: none;\n",
              "      border-radius: 50%;\n",
              "      cursor: pointer;\n",
              "      display: none;\n",
              "      fill: #1967D2;\n",
              "      height: 32px;\n",
              "      padding: 0 0 0 0;\n",
              "      width: 32px;\n",
              "    }\n",
              "\n",
              "    .colab-df-convert:hover {\n",
              "      background-color: #E2EBFA;\n",
              "      box-shadow: 0px 1px 2px rgba(60, 64, 67, 0.3), 0px 1px 3px 1px rgba(60, 64, 67, 0.15);\n",
              "      fill: #174EA6;\n",
              "    }\n",
              "\n",
              "    .colab-df-buttons div {\n",
              "      margin-bottom: 4px;\n",
              "    }\n",
              "\n",
              "    [theme=dark] .colab-df-convert {\n",
              "      background-color: #3B4455;\n",
              "      fill: #D2E3FC;\n",
              "    }\n",
              "\n",
              "    [theme=dark] .colab-df-convert:hover {\n",
              "      background-color: #434B5C;\n",
              "      box-shadow: 0px 1px 3px 1px rgba(0, 0, 0, 0.15);\n",
              "      filter: drop-shadow(0px 1px 2px rgba(0, 0, 0, 0.3));\n",
              "      fill: #FFFFFF;\n",
              "    }\n",
              "  </style>\n",
              "\n",
              "    <script>\n",
              "      const buttonEl =\n",
              "        document.querySelector('#df-206f3dac-b499-4331-ad53-5a260f20acef button.colab-df-convert');\n",
              "      buttonEl.style.display =\n",
              "        google.colab.kernel.accessAllowed ? 'block' : 'none';\n",
              "\n",
              "      async function convertToInteractive(key) {\n",
              "        const element = document.querySelector('#df-206f3dac-b499-4331-ad53-5a260f20acef');\n",
              "        const dataTable =\n",
              "          await google.colab.kernel.invokeFunction('convertToInteractive',\n",
              "                                                    [key], {});\n",
              "        if (!dataTable) return;\n",
              "\n",
              "        const docLinkHtml = 'Like what you see? Visit the ' +\n",
              "          '<a target=\"_blank\" href=https://colab.research.google.com/notebooks/data_table.ipynb>data table notebook</a>'\n",
              "          + ' to learn more about interactive tables.';\n",
              "        element.innerHTML = '';\n",
              "        dataTable['output_type'] = 'display_data';\n",
              "        await google.colab.output.renderOutput(dataTable, element);\n",
              "        const docLink = document.createElement('div');\n",
              "        docLink.innerHTML = docLinkHtml;\n",
              "        element.appendChild(docLink);\n",
              "      }\n",
              "    </script>\n",
              "  </div>\n",
              "\n",
              "    </div>\n",
              "  </div>\n"
            ],
            "application/vnd.google.colaboratory.intrinsic+json": {
              "type": "dataframe",
              "variable_name": "data",
              "summary": "{\n  \"name\": \"data\",\n  \"rows\": 51,\n  \"fields\": [\n    {\n      \"column\": \"metro_res\",\n      \"properties\": {\n        \"dtype\": \"number\",\n        \"std\": 15.275894377076838,\n        \"min\": 38.2,\n        \"max\": 100.0,\n        \"num_unique_values\": 48,\n        \"samples\": [\n          69.8,\n          63.6,\n          54.1\n        ],\n        \"semantic_type\": \"\",\n        \"description\": \"\"\n      }\n    },\n    {\n      \"column\": \"white\",\n      \"properties\": {\n        \"dtype\": \"number\",\n        \"std\": 13.897223026314908,\n        \"min\": 25.9,\n        \"max\": 97.1,\n        \"num_unique_values\": 49,\n        \"samples\": [\n          79.5,\n          85.5,\n          90.1\n        ],\n        \"semantic_type\": \"\",\n        \"description\": \"\"\n      }\n    },\n    {\n      \"column\": \"hs_grad\",\n      \"properties\": {\n        \"dtype\": \"number\",\n        \"std\": 3.7259976950515425,\n        \"min\": 77.2,\n        \"max\": 92.1,\n        \"num_unique_values\": 44,\n        \"samples\": [\n          77.2,\n          90.1,\n          90.8\n        ],\n        \"semantic_type\": \"\",\n        \"description\": \"\"\n      }\n    },\n    {\n      \"column\": \"poverty\",\n      \"properties\": {\n        \"dtype\": \"number\",\n        \"std\": 3.099185218667617,\n        \"min\": 5.6,\n        \"max\": 18.0,\n        \"num_unique_values\": 40,\n        \"samples\": [\n          10.3,\n          11.3,\n          17.0\n        ],\n        \"semantic_type\": \"\",\n        \"description\": \"\"\n      }\n    },\n    {\n      \"column\": \"female_house\",\n      \"properties\": {\n        \"dtype\": \"number\",\n        \"std\": 2.356155059979429,\n        \"min\": 7.8,\n        \"max\": 18.9,\n        \"num_unique_values\": 37,\n        \"samples\": [\n          9.5,\n          8.6,\n          12.6\n        ],\n        \"semantic_type\": \"\",\n        \"description\": \"\"\n      }\n    }\n  ]\n}"
            }
          },
          "metadata": {},
          "execution_count": 32
        }
      ]
    },
    {
      "cell_type": "markdown",
      "source": [
        "## Построим тепловую карту кореляции для нашего датасета"
      ],
      "metadata": {
        "id": "kYdGafkiE9wh"
      }
    },
    {
      "cell_type": "code",
      "source": [
        "corr_matrix = data.corr(numeric_only=True)"
      ],
      "metadata": {
        "id": "XxNJlx7O__4B"
      },
      "execution_count": null,
      "outputs": []
    },
    {
      "cell_type": "code",
      "source": [
        "plt.figure(figsize=(8, 6))\n",
        "sns.heatmap(corr_matrix,\n",
        "            annot=True,\n",
        "            cmap=\"coolwarm\",\n",
        "            center=0)\n",
        "\n",
        "plt.title(\"Corr matrix\")\n",
        "plt.show()"
      ],
      "metadata": {
        "colab": {
          "base_uri": "https://localhost:8080/",
          "height": 545
        },
        "id": "smi2GyfXAJnh",
        "outputId": "38686791-f026-42bd-ad30-5a0bed84cb4f"
      },
      "execution_count": null,
      "outputs": [
        {
          "output_type": "display_data",
          "data": {
            "text/plain": [
              "<Figure size 800x600 with 2 Axes>"
            ],
            "image/png": "[encoded data removed]"
          },
          "metadata": {}
        }
      ]
    },
    {
      "cell_type": "markdown",
      "source": [
        "## Так как корреляция признаков white и female_house больше 0.7, значит мы удаляем признак white."
      ],
      "metadata": {
        "id": "_HkcMSaUCO4p"
      }
    },
    {
      "cell_type": "code",
      "source": [
        "data.drop(\"white\", axis = 1, inplace=True)"
      ],
      "metadata": {
        "id": "YP-KXEclBr67"
      },
      "execution_count": null,
      "outputs": []
    },
    {
      "cell_type": "code",
      "source": [
        "data.head(1)"
      ],
      "metadata": {
        "colab": {
          "base_uri": "https://localhost:8080/",
          "height": 80
        },
        "id": "m_eY9DUgC_ZC",
        "outputId": "1d5e2196-bb0f-4ba7-d1db-2c5abb00044a"
      },
      "execution_count": null,
      "outputs": [
        {
          "output_type": "execute_result",
          "data": {
            "text/plain": [
              "   metro_res  hs_grad  poverty  female_house\n",
              "0       55.4     79.9     14.6          14.2"
            ],
            "text/html": [
              "\n",
              "  <div id=\"df-27abbd02-b498-497b-8829-b4cbe28dce12\" class=\"colab-df-container\">\n",
              "    <div>\n",
              "<style scoped>\n",
              "    .dataframe tbody tr th:only-of-type {\n",
              "        vertical-align: middle;\n",
              "    }\n",
              "\n",
              "    .dataframe tbody tr th {\n",
              "        vertical-align: top;\n",
              "    }\n",
              "\n",
              "    .dataframe thead th {\n",
              "        text-align: right;\n",
              "    }\n",
              "</style>\n",
              "<table border=\"1\" class=\"dataframe\">\n",
              "  <thead>\n",
              "    <tr style=\"text-align: right;\">\n",
              "      <th></th>\n",
              "      <th>metro_res</th>\n",
              "      <th>hs_grad</th>\n",
              "      <th>poverty</th>\n",
              "      <th>female_house</th>\n",
              "    </tr>\n",
              "  </thead>\n",
              "  <tbody>\n",
              "    <tr>\n",
              "      <th>0</th>\n",
              "      <td>55.4</td>\n",
              "      <td>79.9</td>\n",
              "      <td>14.6</td>\n",
              "      <td>14.2</td>\n",
              "    </tr>\n",
              "  </tbody>\n",
              "</table>\n",
              "</div>\n",
              "    <div class=\"colab-df-buttons\">\n",
              "\n",
              "  <div class=\"colab-df-container\">\n",
              "    <button class=\"colab-df-convert\" onclick=\"convertToInteractive('df-27abbd02-b498-497b-8829-b4cbe28dce12')\"\n",
              "            title=\"Convert this dataframe to an interactive table.\"\n",
              "            style=\"display:none;\">\n",
              "\n",
              "  <svg xmlns=\"http://www.w3.org/2000/svg\" height=\"24px\" viewBox=\"0 -960 960 960\">\n",
              "    <path d=\"M120-120v-720h720v720H120Zm60-500h600v-160H180v160Zm220 220h160v-160H400v160Zm0 220h160v-160H400v160ZM180-400h160v-160H180v160Zm440 0h160v-160H620v160ZM180-180h160v-160H180v160Zm440 0h160v-160H620v160Z\"/>\n",
              "  </svg>\n",
              "    </button>\n",
              "\n",
              "  <style>\n",
              "    .colab-df-container {\n",
              "      display:flex;\n",
              "      gap: 12px;\n",
              "    }\n",
              "\n",
              "    .colab-df-convert {\n",
              "      background-color: #E8F0FE;\n",
              "      border: none;\n",
              "      border-radius: 50%;\n",
              "      cursor: pointer;\n",
              "      display: none;\n",
              "      fill: #1967D2;\n",
              "      height: 32px;\n",
              "      padding: 0 0 0 0;\n",
              "      width: 32px;\n",
              "    }\n",
              "\n",
              "    .colab-df-convert:hover {\n",
              "      background-color: #E2EBFA;\n",
              "      box-shadow: 0px 1px 2px rgba(60, 64, 67, 0.3), 0px 1px 3px 1px rgba(60, 64, 67, 0.15);\n",
              "      fill: #174EA6;\n",
              "    }\n",
              "\n",
              "    .colab-df-buttons div {\n",
              "      margin-bottom: 4px;\n",
              "    }\n",
              "\n",
              "    [theme=dark] .colab-df-convert {\n",
              "      background-color: #3B4455;\n",
              "      fill: #D2E3FC;\n",
              "    }\n",
              "\n",
              "    [theme=dark] .colab-df-convert:hover {\n",
              "      background-color: #434B5C;\n",
              "      box-shadow: 0px 1px 3px 1px rgba(0, 0, 0, 0.15);\n",
              "      filter: drop-shadow(0px 1px 2px rgba(0, 0, 0, 0.3));\n",
              "      fill: #FFFFFF;\n",
              "    }\n",
              "  </style>\n",
              "\n",
              "    <script>\n",
              "      const buttonEl =\n",
              "        document.querySelector('#df-27abbd02-b498-497b-8829-b4cbe28dce12 button.colab-df-convert');\n",
              "      buttonEl.style.display =\n",
              "        google.colab.kernel.accessAllowed ? 'block' : 'none';\n",
              "\n",
              "      async function convertToInteractive(key) {\n",
              "        const element = document.querySelector('#df-27abbd02-b498-497b-8829-b4cbe28dce12');\n",
              "        const dataTable =\n",
              "          await google.colab.kernel.invokeFunction('convertToInteractive',\n",
              "                                                    [key], {});\n",
              "        if (!dataTable) return;\n",
              "\n",
              "        const docLinkHtml = 'Like what you see? Visit the ' +\n",
              "          '<a target=\"_blank\" href=https://colab.research.google.com/notebooks/data_table.ipynb>data table notebook</a>'\n",
              "          + ' to learn more about interactive tables.';\n",
              "        element.innerHTML = '';\n",
              "        dataTable['output_type'] = 'display_data';\n",
              "        await google.colab.output.renderOutput(dataTable, element);\n",
              "        const docLink = document.createElement('div');\n",
              "        docLink.innerHTML = docLinkHtml;\n",
              "        element.appendChild(docLink);\n",
              "      }\n",
              "    </script>\n",
              "  </div>\n",
              "\n",
              "    </div>\n",
              "  </div>\n"
            ],
            "application/vnd.google.colaboratory.intrinsic+json": {
              "type": "dataframe",
              "variable_name": "data",
              "summary": "{\n  \"name\": \"data\",\n  \"rows\": 51,\n  \"fields\": [\n    {\n      \"column\": \"metro_res\",\n      \"properties\": {\n        \"dtype\": \"number\",\n        \"std\": 15.275894377076838,\n        \"min\": 38.2,\n        \"max\": 100.0,\n        \"num_unique_values\": 48,\n        \"samples\": [\n          69.8,\n          63.6,\n          54.1\n        ],\n        \"semantic_type\": \"\",\n        \"description\": \"\"\n      }\n    },\n    {\n      \"column\": \"hs_grad\",\n      \"properties\": {\n        \"dtype\": \"number\",\n        \"std\": 3.7259976950515425,\n        \"min\": 77.2,\n        \"max\": 92.1,\n        \"num_unique_values\": 44,\n        \"samples\": [\n          77.2,\n          90.1,\n          90.8\n        ],\n        \"semantic_type\": \"\",\n        \"description\": \"\"\n      }\n    },\n    {\n      \"column\": \"poverty\",\n      \"properties\": {\n        \"dtype\": \"number\",\n        \"std\": 3.099185218667617,\n        \"min\": 5.6,\n        \"max\": 18.0,\n        \"num_unique_values\": 40,\n        \"samples\": [\n          10.3,\n          11.3,\n          17.0\n        ],\n        \"semantic_type\": \"\",\n        \"description\": \"\"\n      }\n    },\n    {\n      \"column\": \"female_house\",\n      \"properties\": {\n        \"dtype\": \"number\",\n        \"std\": 2.356155059979429,\n        \"min\": 7.8,\n        \"max\": 18.9,\n        \"num_unique_values\": 37,\n        \"samples\": [\n          9.5,\n          8.6,\n          12.6\n        ],\n        \"semantic_type\": \"\",\n        \"description\": \"\"\n      }\n    }\n  ]\n}"
            }
          },
          "metadata": {},
          "execution_count": 36
        }
      ]
    },
    {
      "cell_type": "markdown",
      "source": [
        "## Создадим новые переменные для столбцов признаков - (B) и для таргета - (Y) и переведем в numpy формат для дальнейшей удобной работы."
      ],
      "metadata": {
        "id": "ipPB_jjaEcyY"
      }
    },
    {
      "cell_type": "code",
      "source": [
        "B = data.drop('poverty', axis=1)"
      ],
      "metadata": {
        "id": "K6rGKkENCD6E"
      },
      "execution_count": null,
      "outputs": []
    },
    {
      "cell_type": "code",
      "source": [
        "B.head(2)"
      ],
      "metadata": {
        "colab": {
          "base_uri": "https://localhost:8080/",
          "height": 111
        },
        "id": "Y283tlGl5F2u",
        "outputId": "30a3e37c-23a4-4776-8035-020a1c45a0dd"
      },
      "execution_count": null,
      "outputs": [
        {
          "output_type": "execute_result",
          "data": {
            "text/plain": [
              "   metro_res  hs_grad  female_house\n",
              "0       55.4     79.9          14.2\n",
              "1       65.6     90.6          10.8"
            ],
            "text/html": [
              "\n",
              "  <div id=\"df-56dbbcc6-b4bc-447f-8a3b-80386b3d036e\" class=\"colab-df-container\">\n",
              "    <div>\n",
              "<style scoped>\n",
              "    .dataframe tbody tr th:only-of-type {\n",
              "        vertical-align: middle;\n",
              "    }\n",
              "\n",
              "    .dataframe tbody tr th {\n",
              "        vertical-align: top;\n",
              "    }\n",
              "\n",
              "    .dataframe thead th {\n",
              "        text-align: right;\n",
              "    }\n",
              "</style>\n",
              "<table border=\"1\" class=\"dataframe\">\n",
              "  <thead>\n",
              "    <tr style=\"text-align: right;\">\n",
              "      <th></th>\n",
              "      <th>metro_res</th>\n",
              "      <th>hs_grad</th>\n",
              "      <th>female_house</th>\n",
              "    </tr>\n",
              "  </thead>\n",
              "  <tbody>\n",
              "    <tr>\n",
              "      <th>0</th>\n",
              "      <td>55.4</td>\n",
              "      <td>79.9</td>\n",
              "      <td>14.2</td>\n",
              "    </tr>\n",
              "    <tr>\n",
              "      <th>1</th>\n",
              "      <td>65.6</td>\n",
              "      <td>90.6</td>\n",
              "      <td>10.8</td>\n",
              "    </tr>\n",
              "  </tbody>\n",
              "</table>\n",
              "</div>\n",
              "    <div class=\"colab-df-buttons\">\n",
              "\n",
              "  <div class=\"colab-df-container\">\n",
              "    <button class=\"colab-df-convert\" onclick=\"convertToInteractive('df-56dbbcc6-b4bc-447f-8a3b-80386b3d036e')\"\n",
              "            title=\"Convert this dataframe to an interactive table.\"\n",
              "            style=\"display:none;\">\n",
              "\n",
              "  <svg xmlns=\"http://www.w3.org/2000/svg\" height=\"24px\" viewBox=\"0 -960 960 960\">\n",
              "    <path d=\"M120-120v-720h720v720H120Zm60-500h600v-160H180v160Zm220 220h160v-160H400v160Zm0 220h160v-160H400v160ZM180-400h160v-160H180v160Zm440 0h160v-160H620v160ZM180-180h160v-160H180v160Zm440 0h160v-160H620v160Z\"/>\n",
              "  </svg>\n",
              "    </button>\n",
              "\n",
              "  <style>\n",
              "    .colab-df-container {\n",
              "      display:flex;\n",
              "      gap: 12px;\n",
              "    }\n",
              "\n",
              "    .colab-df-convert {\n",
              "      background-color: #E8F0FE;\n",
              "      border: none;\n",
              "      border-radius: 50%;\n",
              "      cursor: pointer;\n",
              "      display: none;\n",
              "      fill: #1967D2;\n",
              "      height: 32px;\n",
              "      padding: 0 0 0 0;\n",
              "      width: 32px;\n",
              "    }\n",
              "\n",
              "    .colab-df-convert:hover {\n",
              "      background-color: #E2EBFA;\n",
              "      box-shadow: 0px 1px 2px rgba(60, 64, 67, 0.3), 0px 1px 3px 1px rgba(60, 64, 67, 0.15);\n",
              "      fill: #174EA6;\n",
              "    }\n",
              "\n",
              "    .colab-df-buttons div {\n",
              "      margin-bottom: 4px;\n",
              "    }\n",
              "\n",
              "    [theme=dark] .colab-df-convert {\n",
              "      background-color: #3B4455;\n",
              "      fill: #D2E3FC;\n",
              "    }\n",
              "\n",
              "    [theme=dark] .colab-df-convert:hover {\n",
              "      background-color: #434B5C;\n",
              "      box-shadow: 0px 1px 3px 1px rgba(0, 0, 0, 0.15);\n",
              "      filter: drop-shadow(0px 1px 2px rgba(0, 0, 0, 0.3));\n",
              "      fill: #FFFFFF;\n",
              "    }\n",
              "  </style>\n",
              "\n",
              "    <script>\n",
              "      const buttonEl =\n",
              "        document.querySelector('#df-56dbbcc6-b4bc-447f-8a3b-80386b3d036e button.colab-df-convert');\n",
              "      buttonEl.style.display =\n",
              "        google.colab.kernel.accessAllowed ? 'block' : 'none';\n",
              "\n",
              "      async function convertToInteractive(key) {\n",
              "        const element = document.querySelector('#df-56dbbcc6-b4bc-447f-8a3b-80386b3d036e');\n",
              "        const dataTable =\n",
              "          await google.colab.kernel.invokeFunction('convertToInteractive',\n",
              "                                                    [key], {});\n",
              "        if (!dataTable) return;\n",
              "\n",
              "        const docLinkHtml = 'Like what you see? Visit the ' +\n",
              "          '<a target=\"_blank\" href=https://colab.research.google.com/notebooks/data_table.ipynb>data table notebook</a>'\n",
              "          + ' to learn more about interactive tables.';\n",
              "        element.innerHTML = '';\n",
              "        dataTable['output_type'] = 'display_data';\n",
              "        await google.colab.output.renderOutput(dataTable, element);\n",
              "        const docLink = document.createElement('div');\n",
              "        docLink.innerHTML = docLinkHtml;\n",
              "        element.appendChild(docLink);\n",
              "      }\n",
              "    </script>\n",
              "  </div>\n",
              "\n",
              "\n",
              "    <div id=\"df-8cb74a92-c8ec-4e89-8e93-b89a59e31ba9\">\n",
              "      <button class=\"colab-df-quickchart\" onclick=\"quickchart('df-8cb74a92-c8ec-4e89-8e93-b89a59e31ba9')\"\n",
              "                title=\"Suggest charts\"\n",
              "                style=\"display:none;\">\n",
              "\n",
              "<svg xmlns=\"http://www.w3.org/2000/svg\" height=\"24px\"viewBox=\"0 0 24 24\"\n",
              "     width=\"24px\">\n",
              "    <g>\n",
              "        <path d=\"M19 3H5c-1.1 0-2 .9-2 2v14c0 1.1.9 2 2 2h14c1.1 0 2-.9 2-2V5c0-1.1-.9-2-2-2zM9 17H7v-7h2v7zm4 0h-2V7h2v10zm4 0h-2v-4h2v4z\"/>\n",
              "    </g>\n",
              "</svg>\n",
              "      </button>\n",
              "\n",
              "<style>\n",
              "  .colab-df-quickchart {\n",
              "      --bg-color: #E8F0FE;\n",
              "      --fill-color: #1967D2;\n",
              "      --hover-bg-color: #E2EBFA;\n",
              "      --hover-fill-color: #174EA6;\n",
              "      --disabled-fill-color: #AAA;\n",
              "      --disabled-bg-color: #DDD;\n",
              "  }\n",
              "\n",
              "  [theme=dark] .colab-df-quickchart {\n",
              "      --bg-color: #3B4455;\n",
              "      --fill-color: #D2E3FC;\n",
              "      --hover-bg-color: #434B5C;\n",
              "      --hover-fill-color: #FFFFFF;\n",
              "      --disabled-bg-color: #3B4455;\n",
              "      --disabled-fill-color: #666;\n",
              "  }\n",
              "\n",
              "  .colab-df-quickchart {\n",
              "    background-color: var(--bg-color);\n",
              "    border: none;\n",
              "    border-radius: 50%;\n",
              "    cursor: pointer;\n",
              "    display: none;\n",
              "    fill: var(--fill-color);\n",
              "    height: 32px;\n",
              "    padding: 0;\n",
              "    width: 32px;\n",
              "  }\n",
              "\n",
              "  .colab-df-quickchart:hover {\n",
              "    background-color: var(--hover-bg-color);\n",
              "    box-shadow: 0 1px 2px rgba(60, 64, 67, 0.3), 0 1px 3px 1px rgba(60, 64, 67, 0.15);\n",
              "    fill: var(--button-hover-fill-color);\n",
              "  }\n",
              "\n",
              "  .colab-df-quickchart-complete:disabled,\n",
              "  .colab-df-quickchart-complete:disabled:hover {\n",
              "    background-color: var(--disabled-bg-color);\n",
              "    fill: var(--disabled-fill-color);\n",
              "    box-shadow: none;\n",
              "  }\n",
              "\n",
              "  .colab-df-spinner {\n",
              "    border: 2px solid var(--fill-color);\n",
              "    border-color: transparent;\n",
              "    border-bottom-color: var(--fill-color);\n",
              "    animation:\n",
              "      spin 1s steps(1) infinite;\n",
              "  }\n",
              "\n",
              "  @keyframes spin {\n",
              "    0% {\n",
              "      border-color: transparent;\n",
              "      border-bottom-color: var(--fill-color);\n",
              "      border-left-color: var(--fill-color);\n",
              "    }\n",
              "    20% {\n",
              "      border-color: transparent;\n",
              "      border-left-color: var(--fill-color);\n",
              "      border-top-color: var(--fill-color);\n",
              "    }\n",
              "    30% {\n",
              "      border-color: transparent;\n",
              "      border-left-color: var(--fill-color);\n",
              "      border-top-color: var(--fill-color);\n",
              "      border-right-color: var(--fill-color);\n",
              "    }\n",
              "    40% {\n",
              "      border-color: transparent;\n",
              "      border-right-color: var(--fill-color);\n",
              "      border-top-color: var(--fill-color);\n",
              "    }\n",
              "    60% {\n",
              "      border-color: transparent;\n",
              "      border-right-color: var(--fill-color);\n",
              "    }\n",
              "    80% {\n",
              "      border-color: transparent;\n",
              "      border-right-color: var(--fill-color);\n",
              "      border-bottom-color: var(--fill-color);\n",
              "    }\n",
              "    90% {\n",
              "      border-color: transparent;\n",
              "      border-bottom-color: var(--fill-color);\n",
              "    }\n",
              "  }\n",
              "</style>\n",
              "\n",
              "      <script>\n",
              "        async function quickchart(key) {\n",
              "          const quickchartButtonEl =\n",
              "            document.querySelector('#' + key + ' button');\n",
              "          quickchartButtonEl.disabled = true;  // To prevent multiple clicks.\n",
              "          quickchartButtonEl.classList.add('colab-df-spinner');\n",
              "          try {\n",
              "            const charts = await google.colab.kernel.invokeFunction(\n",
              "                'suggestCharts', [key], {});\n",
              "          } catch (error) {\n",
              "            console.error('Error during call to suggestCharts:', error);\n",
              "          }\n",
              "          quickchartButtonEl.classList.remove('colab-df-spinner');\n",
              "          quickchartButtonEl.classList.add('colab-df-quickchart-complete');\n",
              "        }\n",
              "        (() => {\n",
              "          let quickchartButtonEl =\n",
              "            document.querySelector('#df-8cb74a92-c8ec-4e89-8e93-b89a59e31ba9 button');\n",
              "          quickchartButtonEl.style.display =\n",
              "            google.colab.kernel.accessAllowed ? 'block' : 'none';\n",
              "        })();\n",
              "      </script>\n",
              "    </div>\n",
              "    </div>\n",
              "  </div>\n"
            ],
            "application/vnd.google.colaboratory.intrinsic+json": {
              "type": "dataframe",
              "variable_name": "B",
              "summary": "{\n  \"name\": \"B\",\n  \"rows\": 51,\n  \"fields\": [\n    {\n      \"column\": \"metro_res\",\n      \"properties\": {\n        \"dtype\": \"number\",\n        \"std\": 15.275894377076838,\n        \"min\": 38.2,\n        \"max\": 100.0,\n        \"num_unique_values\": 48,\n        \"samples\": [\n          69.8,\n          63.6,\n          54.1\n        ],\n        \"semantic_type\": \"\",\n        \"description\": \"\"\n      }\n    },\n    {\n      \"column\": \"hs_grad\",\n      \"properties\": {\n        \"dtype\": \"number\",\n        \"std\": 3.7259976950515425,\n        \"min\": 77.2,\n        \"max\": 92.1,\n        \"num_unique_values\": 44,\n        \"samples\": [\n          77.2,\n          90.1,\n          90.8\n        ],\n        \"semantic_type\": \"\",\n        \"description\": \"\"\n      }\n    },\n    {\n      \"column\": \"female_house\",\n      \"properties\": {\n        \"dtype\": \"number\",\n        \"std\": 2.356155059979429,\n        \"min\": 7.8,\n        \"max\": 18.9,\n        \"num_unique_values\": 37,\n        \"samples\": [\n          9.5,\n          8.6,\n          12.6\n        ],\n        \"semantic_type\": \"\",\n        \"description\": \"\"\n      }\n    }\n  ]\n}"
            }
          },
          "metadata": {},
          "execution_count": 38
        }
      ]
    },
    {
      "cell_type": "code",
      "source": [
        "B = B.to_numpy()"
      ],
      "metadata": {
        "id": "EVGN7PkTDTDk"
      },
      "execution_count": null,
      "outputs": []
    },
    {
      "cell_type": "code",
      "source": [
        "Y = data['poverty']\n",
        "Y = Y.to_numpy()"
      ],
      "metadata": {
        "id": "WsUgMpEuDaVu"
      },
      "execution_count": null,
      "outputs": []
    },
    {
      "cell_type": "markdown",
      "source": [
        "## Построим уравнение линейной множественной регрессии.\n",
        "\n",
        "H₀ (нулевая гипотеза): Все коэффициенты регрессии (кроме свободного члена) равны нулю. Это означает, что факторы не влияют на зависимую переменную.\n",
        "\n",
        "H₁ (альтернативная гипотеза): Хотя бы один коэффициент регрессии отличен от нуля."
      ],
      "metadata": {
        "id": "fsUadBxFJ13X"
      }
    },
    {
      "cell_type": "code",
      "source": [
        "y = Y\n",
        "x1, x2, x3 = B[:, 0], B[:, 1], B[:, 2]\n",
        "n = len(Y)\n",
        "sum_x1 = sum(x1)\n",
        "sum_x2 = sum(x2)\n",
        "sum_x3 = sum(x3)\n",
        "sum_y = sum(y)\n",
        "sum_x1_pow = sum(x1 ** 2)\n",
        "sum_x2_pow = sum(x2 ** 2)\n",
        "sum_x3_pow = sum(x3 ** 2)\n",
        "sum_x1_x2 = sum(x1 * x2)\n",
        "sum_x1_x3 = sum(x1 * x3)\n",
        "sum_x2_x3 = sum(x2 * x3)\n",
        "sum_y_x1 = sum(y * x1)\n",
        "sum_y_x2 = sum(y *x2)\n",
        "sum_y_x3 = sum(y * x3)\n",
        "\n",
        "A = np.array([\n",
        "    [n, sum_x1, sum_x2, sum_x3],\n",
        "    [sum_x1, sum_x1_pow, sum_x1_x2, sum_x1_x3],\n",
        "    [sum_x2, sum_x1_x2, sum_x2_pow, sum_x2_x3],\n",
        "    [sum_x3, sum_x1_x3, sum_x2_x3, sum_x3_pow]])\n",
        "\n",
        "B = np.array([sum_y, sum_y_x1, sum_y_x2, sum_y_x3])"
      ],
      "metadata": {
        "id": "ArVoO5zgD3_9"
      },
      "execution_count": null,
      "outputs": []
    },
    {
      "cell_type": "code",
      "source": [
        "X = np.linalg.inv(A) @ B"
      ],
      "metadata": {
        "id": "QgQhXQhVJNJL"
      },
      "execution_count": null,
      "outputs": []
    },
    {
      "cell_type": "code",
      "source": [
        "X"
      ],
      "metadata": {
        "colab": {
          "base_uri": "https://localhost:8080/"
        },
        "id": "ZUUIWNrUJXci",
        "outputId": "f977fcbb-376e-4ab5-af1f-3d5377ffc94d"
      },
      "execution_count": null,
      "outputs": [
        {
          "output_type": "execute_result",
          "data": {
            "text/plain": [
              "array([ 5.40596067e+01, -5.39626388e-02, -4.94228684e-01,  3.17848875e-01])"
            ]
          },
          "metadata": {},
          "execution_count": 15
        }
      ]
    },
    {
      "cell_type": "code",
      "source": [
        "B = (data.drop(\"poverty\", axis = 1))\n",
        "B = B.to_numpy()"
      ],
      "metadata": {
        "id": "Ar2CUIVsJthS"
      },
      "execution_count": null,
      "outputs": []
    },
    {
      "cell_type": "markdown",
      "source": [
        "## Определим значение коэффициента множественной корреляции R и коэффициента детерминации R2"
      ],
      "metadata": {
        "id": "uYrBnemYKy1C"
      }
    },
    {
      "cell_type": "code",
      "source": [
        "y_pred = X[0] + B[:, 0] * X[1] + B[:, 1] * X[2] + B[:, 2] * X[3]\n",
        "y_mean = np.mean(Y)"
      ],
      "metadata": {
        "id": "AFrKb_MGJwV9"
      },
      "execution_count": null,
      "outputs": []
    },
    {
      "cell_type": "code",
      "source": [
        "SSE = np.sum((Y - y_pred)**2)\n",
        "SST = np.sum((Y - y_mean)**2)\n",
        "R2 = 1 - (SSE / SST)\n",
        "R = np.sqrt(R2)"
      ],
      "metadata": {
        "id": "7j7o6s6lKTbM"
      },
      "execution_count": null,
      "outputs": []
    },
    {
      "cell_type": "code",
      "source": [
        "R2"
      ],
      "metadata": {
        "colab": {
          "base_uri": "https://localhost:8080/"
        },
        "id": "yBZY2-5WKX4H",
        "outputId": "117083a4-565e-4355-ccf1-8322c907e2bb"
      },
      "execution_count": null,
      "outputs": [
        {
          "output_type": "execute_result",
          "data": {
            "text/plain": [
              "np.float64(0.6250554112179456)"
            ]
          },
          "metadata": {},
          "execution_count": 19
        }
      ]
    },
    {
      "cell_type": "code",
      "source": [
        "R"
      ],
      "metadata": {
        "colab": {
          "base_uri": "https://localhost:8080/"
        },
        "id": "txL7j17aLu7f",
        "outputId": "a02fff82-d73a-48bb-fa71-ae535f08e580"
      },
      "execution_count": null,
      "outputs": [
        {
          "output_type": "execute_result",
          "data": {
            "text/plain": [
              "np.float64(0.7906044593966983)"
            ]
          },
          "metadata": {},
          "execution_count": 21
        }
      ]
    },
    {
      "cell_type": "code",
      "source": [
        "n = B.shape[0]\n",
        "m = B.shape[1]"
      ],
      "metadata": {
        "id": "cBr52mxMKcG7"
      },
      "execution_count": null,
      "outputs": []
    },
    {
      "cell_type": "code",
      "source": [
        "F = (R2 / (1 - R2)) * ((n - m - 1) / m)"
      ],
      "metadata": {
        "id": "XTjVpNW4KllJ"
      },
      "execution_count": null,
      "outputs": []
    },
    {
      "cell_type": "code",
      "source": [
        "F"
      ],
      "metadata": {
        "colab": {
          "base_uri": "https://localhost:8080/"
        },
        "id": "uLoaWWcNKoZp",
        "outputId": "b7161342-a10c-4b68-bd92-c77a76e74fcf"
      },
      "execution_count": null,
      "outputs": [
        {
          "output_type": "execute_result",
          "data": {
            "text/plain": [
              "np.float64(26.11728524355358)"
            ]
          },
          "metadata": {},
          "execution_count": 24
        }
      ]
    },
    {
      "cell_type": "code",
      "source": [
        "import scipy.stats as stats\n",
        "n = len(Y)\n",
        "m = B.shape[1]\n",
        "\n",
        "sigma_hat = np.sqrt(SSE / (n - m - 1))\n",
        "cov_matrix = np.linalg.inv(A) * sigma_hat**2\n",
        "std_errors = np.sqrt(np.diag(cov_matrix))\n",
        "\n",
        "t_values = X / std_errors\n",
        "\n",
        "p_values = [2 * (1 - stats.t.cdf(np.abs(t), df=n - m - 1)) for t in t_values]\n",
        "\n",
        "for i, (coef, t, p) in enumerate(zip(X, t_values, p_values)):\n",
        "    print(f\"Коэффициент b_{i}: {coef:.4f}, t = {t:.3f}, p-value = {p:.4f}\")\n",
        "    if p < 0.05:\n",
        "        print(\"Значим (p < 0.05)\")\n",
        "    else:\n",
        "        print(\"Незначим (p > 0.05)\")"
      ],
      "metadata": {
        "colab": {
          "base_uri": "https://localhost:8080/"
        },
        "id": "6h4rSBNI2Cgp",
        "outputId": "7c00c233-e1fb-4715-b85d-7c9b3bfdd3fe"
      },
      "execution_count": null,
      "outputs": [
        {
          "output_type": "stream",
          "name": "stdout",
          "text": [
            "Коэффициент b_0: 54.0596, t = 5.768, p-value = 0.0000\n",
            "  → Значим (p < 0.05)\n",
            "Коэффициент b_1: -0.0540, t = -2.737, p-value = 0.0087\n",
            "  → Значим (p < 0.05)\n",
            "Коэффициент b_2: -0.4942, t = -5.070, p-value = 0.0000\n",
            "  → Значим (p < 0.05)\n",
            "Коэффициент b_3: 0.3178, t = 1.967, p-value = 0.0551\n",
            "  → Незначим (p > 0.05)\n"
          ]
        }
      ]
    },
    {
      "cell_type": "markdown",
      "source": [
        "## Таким образом мы получили статистически значимые коэффициенты 1, 2, 3 а коэффициент 4 не является значимым для целевой переменной."
      ],
      "metadata": {
        "id": "0i4F3ZHPEB18"
      }
    },
    {
      "cell_type": "code",
      "source": [
        "B_new = B[['metro_res', 'hs_grad']].to_numpy()\n",
        "\n",
        "x1, x2 = B_new[:, 0], B_new[:, 1]\n",
        "n = len(Y)\n",
        "sum_x1 = sum(x1)\n",
        "sum_x2 = sum(x2)\n",
        "sum_y = sum(y)\n",
        "sum_x1_pow = sum(x1 ** 2)\n",
        "sum_x2_pow = sum(x2 ** 2)\n",
        "sum_x1_x2 = sum(x1 * x2)\n",
        "sum_y_x1 = sum(y * x1)\n",
        "sum_y_x2 = sum(y * x2)\n",
        "\n",
        "A_new = np.array([\n",
        "    [n, sum_x1, sum_x2],\n",
        "    [sum_x1, sum_x1_pow, sum_x1_x2],\n",
        "    [sum_x2, sum_x1_x2, sum_x2_pow]\n",
        "])\n",
        "\n",
        "B_vector = np.array([sum_y, sum_y_x1, sum_y_x2])\n",
        "X_new = np.linalg.solve(A_new, B_vector)\n",
        "\n",
        "print(f\"Новое уравнение: ŷ = {X_new[0]:.3f} + {X_new[1]:.3f}·metro_res + {X_new[2]:.3f}·hs_grad\")"
      ],
      "metadata": {
        "colab": {
          "base_uri": "https://localhost:8080/"
        },
        "id": "A766j3ca-6QJ",
        "outputId": "7e44f7cb-cdf2-4761-c569-3bc50d825b94"
      },
      "execution_count": null,
      "outputs": [
        {
          "output_type": "stream",
          "name": "stdout",
          "text": [
            "Новое уравнение: ŷ = 67.330 + -0.039·metro_res + -0.618·hs_grad\n"
          ]
        }
      ]
    },
    {
      "cell_type": "code",
      "source": [
        "y_pred = X_new[0] + X_new[1]*B_new[:, 0] + X_new[2]*B_new[:, 1]\n",
        "residuals = Y - y_pred"
      ],
      "metadata": {
        "id": "1t6Jig_YA4ec"
      },
      "execution_count": null,
      "outputs": []
    },
    {
      "cell_type": "code",
      "source": [
        "SST = np.sum((Y - np.mean(Y))**2)\n",
        "SSE = np.sum(residuals**2)\n",
        "R2 = 1 - (SSE / SST)\n",
        "print(f\"R2 = {R2:.4f}\")"
      ],
      "metadata": {
        "colab": {
          "base_uri": "https://localhost:8080/"
        },
        "id": "quy97lLAA_nD",
        "outputId": "016708bd-5cc6-41e7-8319-b4bf5755b487"
      },
      "execution_count": null,
      "outputs": [
        {
          "output_type": "stream",
          "name": "stdout",
          "text": [
            "R² = 0.5942\n"
          ]
        }
      ]
    },
    {
      "cell_type": "code",
      "source": [
        "R = np.sqrt(R2)\n",
        "print(f\"R = {R:.4f}\")"
      ],
      "metadata": {
        "colab": {
          "base_uri": "https://localhost:8080/"
        },
        "id": "5A4tr5YTBCVK",
        "outputId": "98f52804-3b2e-4ce4-cea4-31eceb6faa3a"
      },
      "execution_count": null,
      "outputs": [
        {
          "output_type": "stream",
          "name": "stdout",
          "text": [
            "R = 0.7708\n"
          ]
        }
      ]
    },
    {
      "cell_type": "code",
      "source": [
        "sigma_hat = np.sqrt(SSE / (n - m - 1))\n",
        "cov_matrix = np.linalg.inv(A_new) * sigma_hat**2\n",
        "std_errors = np.sqrt(np.diag(cov_matrix))\n",
        "t_values = X_new / std_errors\n",
        "p_values = [2 * (1 - stats.t.cdf(np.abs(t), df=n - m - 1)) for t in t_values]\n",
        "\n",
        "for i, (coef, t, p) in enumerate(zip(X_new, t_values, p_values)):\n",
        "    print(f\"Коэффициент b_{i}: {coef:.4f}, t = {t:.3f}, p-value = {p:.4f}\")"
      ],
      "metadata": {
        "colab": {
          "base_uri": "https://localhost:8080/"
        },
        "id": "kwuuUsgvBf9g",
        "outputId": "364121f7-b79a-456f-eb5f-00f37e4bc970"
      },
      "execution_count": null,
      "outputs": [
        {
          "output_type": "stream",
          "name": "stdout",
          "text": [
            "Коэффициент b_0: 67.3301, t = 10.052, p-value = 0.0000\n",
            "Коэффициент b_1: -0.0387, t = -2.074, p-value = 0.0434\n",
            "Коэффициент b_2: -0.6183, t = -8.084, p-value = 0.0000\n"
          ]
        }
      ]
    },
    {
      "cell_type": "code",
      "source": [
        "print(f\"Старый R²: 0.625, Новый R²: {R2:.3f}\")"
      ],
      "metadata": {
        "colab": {
          "base_uri": "https://localhost:8080/"
        },
        "id": "KRO_kI1FBmqZ",
        "outputId": "14c325c4-cf62-4398-aeb8-616973781a0c"
      },
      "execution_count": null,
      "outputs": [
        {
          "output_type": "stream",
          "name": "stdout",
          "text": [
            "Старый R²: 0.625, Новый R²: 0.594\n"
          ]
        }
      ]
    },
    {
      "cell_type": "markdown",
      "source": [
        "### После исключения незначимого предиктора female_house (p = 0.055), модель сохранила объяснительную способность (R² = 0.594 против 0.625). Упрощение оправдано, так как все коэффициенты теперь статистически значимы (p < 0.05), а потеря точности минимальна."
      ],
      "metadata": {
        "id": "EjNsUqmWEKzI"
      }
    },
    {
      "cell_type": "code",
      "source": [
        "n = len(Y)\n",
        "m = B_new.shape[1]\n",
        "F = (R2 / (1 - R2)) * ((n - m - 1) / m)\n",
        "print(f\"F = {F:.4f}\")\n",
        "\n",
        "from scipy.stats import f\n",
        "F_crit = f.ppf(1 - 0.05, m, n - m - 1)\n",
        "print(f\"F-критическое (α=0.05) = {F_crit:.4f}\")\n",
        "\n",
        "if F > F_crit:\n",
        "    print(\"Модель значима (p < 0.05)\")\n",
        "else:\n",
        "    print(\"Модель незначима\")"
      ],
      "metadata": {
        "colab": {
          "base_uri": "https://localhost:8080/"
        },
        "id": "z636gHmwBHku",
        "outputId": "0a73e68f-31fd-4c71-ba00-e3cc204906c1"
      },
      "execution_count": null,
      "outputs": [
        {
          "output_type": "stream",
          "name": "stdout",
          "text": [
            "F = 35.1394\n",
            "F-критическое (α=0.05) = 3.1907\n",
            "Модель значима (p < 0.05)\n"
          ]
        }
      ]
    },
    {
      "cell_type": "code",
      "source": [
        "import numpy as np\n",
        "import statsmodels.api as sm\n",
        "\n",
        "sorted_idx = np.argsort(B_new[:, 1])\n",
        "B_sorted = B_new[sorted_idx]\n",
        "Y_sorted = Y[sorted_idx]"
      ],
      "metadata": {
        "id": "03_AiqwBE6Jl"
      },
      "execution_count": null,
      "outputs": []
    },
    {
      "cell_type": "code",
      "source": [
        "B_group1 = B_sorted[:17]\n",
        "Y_group1 = Y_sorted[:17]\n",
        "\n",
        "B_group2 = B_sorted[-17:]\n",
        "Y_group2 = Y_sorted[-17:]"
      ],
      "metadata": {
        "id": "SfFRloC4HKOO"
      },
      "execution_count": null,
      "outputs": []
    },
    {
      "cell_type": "code",
      "source": [
        "def get_residuals(X, Y):\n",
        "    model = sm.OLS(Y, sm.add_constant(X)).fit()\n",
        "    return model.resid\n",
        "\n",
        "resid1 = get_residuals(B_group1, Y_group1)\n",
        "resid2 = get_residuals(B_group2, Y_group2)\n",
        "\n",
        "model_resid1 = sm.OLS(resid1, sm.add_constant(B_group1)).fit()\n",
        "model_resid2 = sm.OLS(resid2, sm.add_constant(B_group2)).fit()\n",
        "\n",
        "S1 = model_resid1.ssr\n",
        "S2 = model_resid2.ssr"
      ],
      "metadata": {
        "id": "D_7wA0OhHkAr"
      },
      "execution_count": null,
      "outputs": []
    },
    {
      "cell_type": "code",
      "source": [
        "R = max(S1, S2) / min(S1, S2)\n",
        "print(f\"R = {R:.4f}\")"
      ],
      "metadata": {
        "colab": {
          "base_uri": "https://localhost:8080/"
        },
        "id": "jZIoXhd-Hl7E",
        "outputId": "c051f0cb-7df0-492f-da38-656fff3b4938"
      },
      "execution_count": null,
      "outputs": [
        {
          "output_type": "stream",
          "name": "stdout",
          "text": [
            "R = 1.2361\n"
          ]
        }
      ]
    },
    {
      "cell_type": "code",
      "source": [
        "alpha = 0.05\n",
        "df = 14\n",
        "F_crit = f.ppf(1 - alpha, df, df)\n",
        "\n",
        "print(f\"Критическое значение F({df},{df}) на уровне {alpha}: {F_crit:.4f}\")\n",
        "\n",
        "if R > F_crit:\n",
        "    print(f\"R = {R:.4f} > F_crit = {F_crit:.4f} Гетероскедастичность есть!\")\n",
        "else:\n",
        "    print(f\"R = {R:.4f} ≤ F_crit = {F_crit:.4f} Гомоскедастичность!\")"
      ],
      "metadata": {
        "colab": {
          "base_uri": "https://localhost:8080/",
          "height": 207
        },
        "id": "ukkq8vLlHoRB",
        "outputId": "ab4058ad-f1d1-4ef9-b19e-f6a581228806"
      },
      "execution_count": null,
      "outputs": [
        {
          "output_type": "error",
          "ename": "NameError",
          "evalue": "name 'f' is not defined",
          "traceback": [
            "\u001b[0;31m---------------------------------------------------------------------------\u001b[0m",
            "\u001b[0;31mNameError\u001b[0m                                 Traceback (most recent call last)",
            "\u001b[0;32m<ipython-input-1-863f22f49fd8>\u001b[0m in \u001b[0;36m<cell line: 0>\u001b[0;34m()\u001b[0m\n\u001b[1;32m      1\u001b[0m \u001b[0malpha\u001b[0m \u001b[0;34m=\u001b[0m \u001b[0;36m0.05\u001b[0m\u001b[0;34m\u001b[0m\u001b[0;34m\u001b[0m\u001b[0m\n\u001b[1;32m      2\u001b[0m \u001b[0mdf\u001b[0m \u001b[0;34m=\u001b[0m \u001b[0;36m14\u001b[0m  \u001b[0;31m# 17 - 3 = 14\u001b[0m\u001b[0;34m\u001b[0m\u001b[0;34m\u001b[0m\u001b[0m\n\u001b[0;32m----> 3\u001b[0;31m \u001b[0mF_crit\u001b[0m \u001b[0;34m=\u001b[0m \u001b[0mf\u001b[0m\u001b[0;34m.\u001b[0m\u001b[0mppf\u001b[0m\u001b[0;34m(\u001b[0m\u001b[0;36m1\u001b[0m \u001b[0;34m-\u001b[0m \u001b[0malpha\u001b[0m\u001b[0;34m,\u001b[0m \u001b[0mdf\u001b[0m\u001b[0;34m,\u001b[0m \u001b[0mdf\u001b[0m\u001b[0;34m)\u001b[0m\u001b[0;34m\u001b[0m\u001b[0;34m\u001b[0m\u001b[0m\n\u001b[0m\u001b[1;32m      4\u001b[0m \u001b[0;34m\u001b[0m\u001b[0m\n\u001b[1;32m      5\u001b[0m \u001b[0mprint\u001b[0m\u001b[0;34m(\u001b[0m\u001b[0;34mf\"Критическое значение F({df},{df}) на уровне {alpha}: {F_crit:.4f}\"\u001b[0m\u001b[0;34m)\u001b[0m\u001b[0;34m\u001b[0m\u001b[0;34m\u001b[0m\u001b[0m\n",
            "\u001b[0;31mNameError\u001b[0m: name 'f' is not defined"
          ]
        }
      ]
    },
    {
      "cell_type": "markdown",
      "source": [
        "## Часть 2\n",
        "### 1)\tСоздадим новые признаки\n",
        "\n"
      ],
      "metadata": {
        "id": "FWdcXomF56Cx"
      }
    },
    {
      "cell_type": "code",
      "source": [
        "import pandas as pd\n",
        "import numpy as np\n",
        "\n",
        "df = pd.DataFrame(B, columns=['metro_res', 'hs_grad', 'female_house'])\n",
        "\n",
        "df['metro_res_hs_grad'] = df['metro_res'] * df['hs_grad']\n",
        "df['metro_res_female_house'] = df['metro_res'] * df['female_house']\n",
        "df['hs_grad_female_house'] = df['hs_grad'] * df['female_house']"
      ],
      "metadata": {
        "id": "LKlak6kptKUm"
      },
      "execution_count": null,
      "outputs": []
    },
    {
      "cell_type": "code",
      "source": [
        "df.head(2)"
      ],
      "metadata": {
        "colab": {
          "base_uri": "https://localhost:8080/",
          "height": 111
        },
        "id": "pAzEwCkHtzmq",
        "outputId": "94d2e23c-ab30-4e69-f7dc-1ec78f350575"
      },
      "execution_count": null,
      "outputs": [
        {
          "output_type": "execute_result",
          "data": {
            "text/plain": [
              "   metro_res  hs_grad  female_house  metro_res_hs_grad  \\\n",
              "0       55.4     79.9          14.2            4426.46   \n",
              "1       65.6     90.6          10.8            5943.36   \n",
              "\n",
              "   metro_res_female_house  hs_grad_female_house  \n",
              "0                  786.68               1134.58  \n",
              "1                  708.48                978.48  "
            ],
            "text/html": [
              "\n",
              "  <div id=\"df-1009336a-180b-4dce-85ed-78ecab22364b\" class=\"colab-df-container\">\n",
              "    <div>\n",
              "<style scoped>\n",
              "    .dataframe tbody tr th:only-of-type {\n",
              "        vertical-align: middle;\n",
              "    }\n",
              "\n",
              "    .dataframe tbody tr th {\n",
              "        vertical-align: top;\n",
              "    }\n",
              "\n",
              "    .dataframe thead th {\n",
              "        text-align: right;\n",
              "    }\n",
              "</style>\n",
              "<table border=\"1\" class=\"dataframe\">\n",
              "  <thead>\n",
              "    <tr style=\"text-align: right;\">\n",
              "      <th></th>\n",
              "      <th>metro_res</th>\n",
              "      <th>hs_grad</th>\n",
              "      <th>female_house</th>\n",
              "      <th>metro_res_hs_grad</th>\n",
              "      <th>metro_res_female_house</th>\n",
              "      <th>hs_grad_female_house</th>\n",
              "    </tr>\n",
              "  </thead>\n",
              "  <tbody>\n",
              "    <tr>\n",
              "      <th>0</th>\n",
              "      <td>55.4</td>\n",
              "      <td>79.9</td>\n",
              "      <td>14.2</td>\n",
              "      <td>4426.46</td>\n",
              "      <td>786.68</td>\n",
              "      <td>1134.58</td>\n",
              "    </tr>\n",
              "    <tr>\n",
              "      <th>1</th>\n",
              "      <td>65.6</td>\n",
              "      <td>90.6</td>\n",
              "      <td>10.8</td>\n",
              "      <td>5943.36</td>\n",
              "      <td>708.48</td>\n",
              "      <td>978.48</td>\n",
              "    </tr>\n",
              "  </tbody>\n",
              "</table>\n",
              "</div>\n",
              "    <div class=\"colab-df-buttons\">\n",
              "\n",
              "  <div class=\"colab-df-container\">\n",
              "    <button class=\"colab-df-convert\" onclick=\"convertToInteractive('df-1009336a-180b-4dce-85ed-78ecab22364b')\"\n",
              "            title=\"Convert this dataframe to an interactive table.\"\n",
              "            style=\"display:none;\">\n",
              "\n",
              "  <svg xmlns=\"http://www.w3.org/2000/svg\" height=\"24px\" viewBox=\"0 -960 960 960\">\n",
              "    <path d=\"M120-120v-720h720v720H120Zm60-500h600v-160H180v160Zm220 220h160v-160H400v160Zm0 220h160v-160H400v160ZM180-400h160v-160H180v160Zm440 0h160v-160H620v160ZM180-180h160v-160H180v160Zm440 0h160v-160H620v160Z\"/>\n",
              "  </svg>\n",
              "    </button>\n",
              "\n",
              "  <style>\n",
              "    .colab-df-container {\n",
              "      display:flex;\n",
              "      gap: 12px;\n",
              "    }\n",
              "\n",
              "    .colab-df-convert {\n",
              "      background-color: #E8F0FE;\n",
              "      border: none;\n",
              "      border-radius: 50%;\n",
              "      cursor: pointer;\n",
              "      display: none;\n",
              "      fill: #1967D2;\n",
              "      height: 32px;\n",
              "      padding: 0 0 0 0;\n",
              "      width: 32px;\n",
              "    }\n",
              "\n",
              "    .colab-df-convert:hover {\n",
              "      background-color: #E2EBFA;\n",
              "      box-shadow: 0px 1px 2px rgba(60, 64, 67, 0.3), 0px 1px 3px 1px rgba(60, 64, 67, 0.15);\n",
              "      fill: #174EA6;\n",
              "    }\n",
              "\n",
              "    .colab-df-buttons div {\n",
              "      margin-bottom: 4px;\n",
              "    }\n",
              "\n",
              "    [theme=dark] .colab-df-convert {\n",
              "      background-color: #3B4455;\n",
              "      fill: #D2E3FC;\n",
              "    }\n",
              "\n",
              "    [theme=dark] .colab-df-convert:hover {\n",
              "      background-color: #434B5C;\n",
              "      box-shadow: 0px 1px 3px 1px rgba(0, 0, 0, 0.15);\n",
              "      filter: drop-shadow(0px 1px 2px rgba(0, 0, 0, 0.3));\n",
              "      fill: #FFFFFF;\n",
              "    }\n",
              "  </style>\n",
              "\n",
              "    <script>\n",
              "      const buttonEl =\n",
              "        document.querySelector('#df-1009336a-180b-4dce-85ed-78ecab22364b button.colab-df-convert');\n",
              "      buttonEl.style.display =\n",
              "        google.colab.kernel.accessAllowed ? 'block' : 'none';\n",
              "\n",
              "      async function convertToInteractive(key) {\n",
              "        const element = document.querySelector('#df-1009336a-180b-4dce-85ed-78ecab22364b');\n",
              "        const dataTable =\n",
              "          await google.colab.kernel.invokeFunction('convertToInteractive',\n",
              "                                                    [key], {});\n",
              "        if (!dataTable) return;\n",
              "\n",
              "        const docLinkHtml = 'Like what you see? Visit the ' +\n",
              "          '<a target=\"_blank\" href=https://colab.research.google.com/notebooks/data_table.ipynb>data table notebook</a>'\n",
              "          + ' to learn more about interactive tables.';\n",
              "        element.innerHTML = '';\n",
              "        dataTable['output_type'] = 'display_data';\n",
              "        await google.colab.output.renderOutput(dataTable, element);\n",
              "        const docLink = document.createElement('div');\n",
              "        docLink.innerHTML = docLinkHtml;\n",
              "        element.appendChild(docLink);\n",
              "      }\n",
              "    </script>\n",
              "  </div>\n",
              "\n",
              "\n",
              "    <div id=\"df-fc0d849f-e81c-4b99-91a1-ed147c078f90\">\n",
              "      <button class=\"colab-df-quickchart\" onclick=\"quickchart('df-fc0d849f-e81c-4b99-91a1-ed147c078f90')\"\n",
              "                title=\"Suggest charts\"\n",
              "                style=\"display:none;\">\n",
              "\n",
              "<svg xmlns=\"http://www.w3.org/2000/svg\" height=\"24px\"viewBox=\"0 0 24 24\"\n",
              "     width=\"24px\">\n",
              "    <g>\n",
              "        <path d=\"M19 3H5c-1.1 0-2 .9-2 2v14c0 1.1.9 2 2 2h14c1.1 0 2-.9 2-2V5c0-1.1-.9-2-2-2zM9 17H7v-7h2v7zm4 0h-2V7h2v10zm4 0h-2v-4h2v4z\"/>\n",
              "    </g>\n",
              "</svg>\n",
              "      </button>\n",
              "\n",
              "<style>\n",
              "  .colab-df-quickchart {\n",
              "      --bg-color: #E8F0FE;\n",
              "      --fill-color: #1967D2;\n",
              "      --hover-bg-color: #E2EBFA;\n",
              "      --hover-fill-color: #174EA6;\n",
              "      --disabled-fill-color: #AAA;\n",
              "      --disabled-bg-color: #DDD;\n",
              "  }\n",
              "\n",
              "  [theme=dark] .colab-df-quickchart {\n",
              "      --bg-color: #3B4455;\n",
              "      --fill-color: #D2E3FC;\n",
              "      --hover-bg-color: #434B5C;\n",
              "      --hover-fill-color: #FFFFFF;\n",
              "      --disabled-bg-color: #3B4455;\n",
              "      --disabled-fill-color: #666;\n",
              "  }\n",
              "\n",
              "  .colab-df-quickchart {\n",
              "    background-color: var(--bg-color);\n",
              "    border: none;\n",
              "    border-radius: 50%;\n",
              "    cursor: pointer;\n",
              "    display: none;\n",
              "    fill: var(--fill-color);\n",
              "    height: 32px;\n",
              "    padding: 0;\n",
              "    width: 32px;\n",
              "  }\n",
              "\n",
              "  .colab-df-quickchart:hover {\n",
              "    background-color: var(--hover-bg-color);\n",
              "    box-shadow: 0 1px 2px rgba(60, 64, 67, 0.3), 0 1px 3px 1px rgba(60, 64, 67, 0.15);\n",
              "    fill: var(--button-hover-fill-color);\n",
              "  }\n",
              "\n",
              "  .colab-df-quickchart-complete:disabled,\n",
              "  .colab-df-quickchart-complete:disabled:hover {\n",
              "    background-color: var(--disabled-bg-color);\n",
              "    fill: var(--disabled-fill-color);\n",
              "    box-shadow: none;\n",
              "  }\n",
              "\n",
              "  .colab-df-spinner {\n",
              "    border: 2px solid var(--fill-color);\n",
              "    border-color: transparent;\n",
              "    border-bottom-color: var(--fill-color);\n",
              "    animation:\n",
              "      spin 1s steps(1) infinite;\n",
              "  }\n",
              "\n",
              "  @keyframes spin {\n",
              "    0% {\n",
              "      border-color: transparent;\n",
              "      border-bottom-color: var(--fill-color);\n",
              "      border-left-color: var(--fill-color);\n",
              "    }\n",
              "    20% {\n",
              "      border-color: transparent;\n",
              "      border-left-color: var(--fill-color);\n",
              "      border-top-color: var(--fill-color);\n",
              "    }\n",
              "    30% {\n",
              "      border-color: transparent;\n",
              "      border-left-color: var(--fill-color);\n",
              "      border-top-color: var(--fill-color);\n",
              "      border-right-color: var(--fill-color);\n",
              "    }\n",
              "    40% {\n",
              "      border-color: transparent;\n",
              "      border-right-color: var(--fill-color);\n",
              "      border-top-color: var(--fill-color);\n",
              "    }\n",
              "    60% {\n",
              "      border-color: transparent;\n",
              "      border-right-color: var(--fill-color);\n",
              "    }\n",
              "    80% {\n",
              "      border-color: transparent;\n",
              "      border-right-color: var(--fill-color);\n",
              "      border-bottom-color: var(--fill-color);\n",
              "    }\n",
              "    90% {\n",
              "      border-color: transparent;\n",
              "      border-bottom-color: var(--fill-color);\n",
              "    }\n",
              "  }\n",
              "</style>\n",
              "\n",
              "      <script>\n",
              "        async function quickchart(key) {\n",
              "          const quickchartButtonEl =\n",
              "            document.querySelector('#' + key + ' button');\n",
              "          quickchartButtonEl.disabled = true;  // To prevent multiple clicks.\n",
              "          quickchartButtonEl.classList.add('colab-df-spinner');\n",
              "          try {\n",
              "            const charts = await google.colab.kernel.invokeFunction(\n",
              "                'suggestCharts', [key], {});\n",
              "          } catch (error) {\n",
              "            console.error('Error during call to suggestCharts:', error);\n",
              "          }\n",
              "          quickchartButtonEl.classList.remove('colab-df-spinner');\n",
              "          quickchartButtonEl.classList.add('colab-df-quickchart-complete');\n",
              "        }\n",
              "        (() => {\n",
              "          let quickchartButtonEl =\n",
              "            document.querySelector('#df-fc0d849f-e81c-4b99-91a1-ed147c078f90 button');\n",
              "          quickchartButtonEl.style.display =\n",
              "            google.colab.kernel.accessAllowed ? 'block' : 'none';\n",
              "        })();\n",
              "      </script>\n",
              "    </div>\n",
              "    </div>\n",
              "  </div>\n"
            ],
            "application/vnd.google.colaboratory.intrinsic+json": {
              "type": "dataframe",
              "variable_name": "df",
              "summary": "{\n  \"name\": \"df\",\n  \"rows\": 51,\n  \"fields\": [\n    {\n      \"column\": \"metro_res\",\n      \"properties\": {\n        \"dtype\": \"number\",\n        \"std\": 15.275894377076838,\n        \"min\": 38.2,\n        \"max\": 100.0,\n        \"num_unique_values\": 48,\n        \"samples\": [\n          69.8,\n          63.6,\n          54.1\n        ],\n        \"semantic_type\": \"\",\n        \"description\": \"\"\n      }\n    },\n    {\n      \"column\": \"hs_grad\",\n      \"properties\": {\n        \"dtype\": \"number\",\n        \"std\": 3.7259976950515425,\n        \"min\": 77.2,\n        \"max\": 92.1,\n        \"num_unique_values\": 44,\n        \"samples\": [\n          77.2,\n          90.1,\n          90.8\n        ],\n        \"semantic_type\": \"\",\n        \"description\": \"\"\n      }\n    },\n    {\n      \"column\": \"female_house\",\n      \"properties\": {\n        \"dtype\": \"number\",\n        \"std\": 2.356155059979429,\n        \"min\": 7.8,\n        \"max\": 18.9,\n        \"num_unique_values\": 37,\n        \"samples\": [\n          9.5,\n          8.6,\n          12.6\n        ],\n        \"semantic_type\": \"\",\n        \"description\": \"\"\n      }\n    },\n    {\n      \"column\": \"metro_res_hs_grad\",\n      \"properties\": {\n        \"dtype\": \"number\",\n        \"std\": 1334.018598853795,\n        \"min\": 3395.9800000000005,\n        \"max\": 8600.0,\n        \"num_unique_values\": 51,\n        \"samples\": [\n          6369.0,\n          4888.4,\n          6409.4\n        ],\n        \"semantic_type\": \"\",\n        \"description\": \"\"\n      }\n    },\n    {\n      \"column\": \"metro_res_female_house\",\n      \"properties\": {\n        \"dtype\": \"number\",\n        \"std\": 284.87441731663125,\n        \"min\": 355.26000000000005,\n        \"max\": 1889.9999999999998,\n        \"num_unique_values\": 50,\n        \"samples\": [\n          1079.94,\n          895.4000000000001,\n          990.0\n        ],\n        \"semantic_type\": \"\",\n        \"description\": \"\"\n      }\n    },\n    {\n      \"column\": \"hs_grad_female_house\",\n      \"properties\": {\n        \"dtype\": \"number\",\n        \"std\": 179.1439884570892,\n        \"min\": 699.66,\n        \"max\": 1625.3999999999999,\n        \"num_unique_values\": 50,\n        \"samples\": [\n          1056.5700000000002,\n          1044.9,\n          1086.1200000000001\n        ],\n        \"semantic_type\": \"\",\n        \"description\": \"\"\n      }\n    }\n  ]\n}"
            }
          },
          "metadata": {},
          "execution_count": 8
        }
      ]
    },
    {
      "cell_type": "markdown",
      "source": [
        "## Построим матрицу кореляции"
      ],
      "metadata": {
        "id": "FKFhnHcE6MJd"
      }
    },
    {
      "cell_type": "code",
      "source": [
        "corr_matrix = df.corr()\n",
        "plt.figure(figsize=(10, 8))\n",
        "sns.heatmap(corr_matrix, annot=True, cmap='coolwarm', center=0)\n",
        "plt.title('Матрица корреляций')\n",
        "plt.show()"
      ],
      "metadata": {
        "colab": {
          "base_uri": "https://localhost:8080/",
          "height": 858
        },
        "collapsed": true,
        "id": "qPQb5yr2t9d5",
        "outputId": "ed259d4e-ede7-4108-e28e-5b9e0611ea71"
      },
      "execution_count": null,
      "outputs": [
        {
          "output_type": "display_data",
          "data": {
            "text/plain": [
              "<Figure size 1000x800 with 2 Axes>"
            ],
            "image/png": "[encoded data removed]"
          },
          "metadata": {}
        }
      ]
    },
    {
      "cell_type": "markdown",
      "source": [
        "### Теперь построим модель, используя все отобранные признаки\n",
        "### Проверим статистическую значимость модели\n",
        "### Вычислим коэффициент детерминации"
      ],
      "metadata": {
        "id": "2k7g5WwG6V26"
      }
    },
    {
      "cell_type": "code",
      "source": [
        "from scipy import stats\n",
        "\n",
        "X = df.to_numpy()\n",
        "Y = data['poverty'].to_numpy()\n",
        "n = len(Y)\n",
        "\n",
        "X_full = np.column_stack([np.ones(n), X])\n",
        "\n",
        "A = X_full.T @ X_full\n",
        "B_vec = X_full.T @ Y\n",
        "beta = np.linalg.inv(A) @ B_vec\n",
        "\n",
        "y_pred = X_full @ beta\n",
        "y_mean = np.mean(Y)\n",
        "SSE = np.sum((Y - y_pred)**2)\n",
        "SST = np.sum((Y - y_mean)**2)\n",
        "R2 = 1 - (SSE / SST)\n",
        "F = (R2 / (1 - R2)) * ((n - 6 - 1) / 6)\n",
        "\n",
        "sigma_hat = np.sqrt(SSE / (n - 6 - 1))\n",
        "cov_matrix = np.linalg.inv(A) * sigma_hat**2\n",
        "std_errors = np.sqrt(np.diag(cov_matrix))\n",
        "t_values = beta / std_errors\n",
        "p_values = 2 * (1 - stats.t.cdf(np.abs(t_values), df=n-6-1))\n",
        "\n",
        "print(\"Уравнение регрессии с взаимодействиями:\")\n",
        "print(f\"ŷ = {beta[0]:.4f} + {beta[1]:.4f}·metro_res + {beta[2]:.4f}·hs_grad + {beta[3]:.4f}·female_house\")\n",
        "print(f\"+ {beta[4]:.4f}·metro_res×hs_grad + {beta[5]:.4f}·metro_res×female_house + {beta[6]:.4f}·hs_grad×female_house\")\n",
        "\n",
        "print(f\"\\nR2 = {R2:.4f}\")\n",
        "print(f\"F-статистика = {F:.4f}\")\n",
        "\n",
        "print(\"\\nПроверка значимости коэффициентов:\")\n",
        "for i, col in enumerate(['intercept'] + df.columns.tolist()):\n",
        "    print(f\"{col}: beta = {beta[i]:.4f}, t = {t_values[i]:.4f}, p-value = {p_values[i]:.4f}\",\n",
        "          \"(значим)\" if p_values[i] < 0.05 else \"(незначим)\")"
      ],
      "metadata": {
        "colab": {
          "base_uri": "https://localhost:8080/"
        },
        "id": "uhuUgDfnz9aJ",
        "outputId": "58f43c71-7cbe-4369-9585-f4222f7e4ffe"
      },
      "execution_count": null,
      "outputs": [
        {
          "output_type": "stream",
          "name": "stdout",
          "text": [
            "Уравнение регрессии с взаимодействиями:\n",
            "ŷ = 48.7214 + -1.1951·metro_res + -0.2313·hs_grad + 6.8111·female_house\n",
            "+ 0.0108·metro_res×hs_grad + 0.0210·metro_res×female_house + -0.0955·hs_grad×female_house\n",
            "\n",
            "R2 = 0.6817\n",
            "F-статистика = 15.7076\n",
            "\n",
            "Проверка значимости коэффициентов:\n",
            "intercept: beta = 48.7214, t = 1.0509, p-value = 0.2990 (незначим)\n",
            "metro_res: beta = -1.1951, t = -1.9651, p-value = 0.0557 (незначим)\n",
            "hs_grad: beta = -0.2313, t = -0.4453, p-value = 0.6583 (незначим)\n",
            "female_house: beta = 6.8111, t = 1.9088, p-value = 0.0628 (незначим)\n",
            "metro_res_hs_grad: beta = 0.0108, t = 1.6497, p-value = 0.1061 (незначим)\n",
            "metro_res_female_house: beta = 0.0210, t = 2.5758, p-value = 0.0134 (значим)\n",
            "hs_grad_female_house: beta = -0.0955, t = -2.1345, p-value = 0.0384 (значим)\n"
          ]
        }
      ]
    },
    {
      "cell_type": "markdown",
      "source": [
        "##Прирост R² за счёт взаимодействий: 0,0877\n",
        "##Прирост R² значителен — модель c взаимодействием предпочтительнее."
      ],
      "metadata": {
        "id": "hWskvr8I7ARW"
      }
    }
  ]
}