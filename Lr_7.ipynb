{
  "nbformat": 4,
  "nbformat_minor": 0,
  "metadata": {
    "colab": {
      "provenance": []
    },
    "kernelspec": {
      "name": "python3",
      "display_name": "Python 3"
    },
    "language_info": {
      "name": "python"
    }
  },
  "cells": [
    {
      "cell_type": "code",
      "execution_count": null,
      "metadata": {
        "id": "OOcUxQyyGM2B",
        "colab": {
          "base_uri": "https://localhost:8080/"
        },
        "outputId": "cf816ef8-76da-4b06-c90f-02a023277358"
      },
      "outputs": [
        {
          "output_type": "stream",
          "name": "stdout",
          "text": [
            "     I  II  III\n",
            "0   96  76   82\n",
            "1  100  82   90\n",
            "2  104  82   81\n",
            "3  120  84  132\n",
            "4  120  88  121\n"
          ]
        }
      ],
      "source": [
        "import pandas as pd\n",
        "\n",
        "data = {\n",
        "    'I': [96, 100, 104, 120, 120, 120, 120, 126, 130, 134, 134, 136],\n",
        "    'II': [76, 82, 82, 84, 88, 96, 100, 102, 104, 110, 118, 120],\n",
        "    'III': [82, 90, 81, 132, 121, 100, 105, 120, 105, 120, 130, 134]\n",
        "}\n",
        "\n",
        "df = pd.DataFrame(data)\n",
        "print(df.head())"
      ]
    },
    {
      "cell_type": "markdown",
      "source": [
        "### Проведем тест Розенбаума для первой и второй выборки и определим стат значимые различия."
      ],
      "metadata": {
        "id": "jQbpTzlZJDz5"
      }
    },
    {
      "cell_type": "code",
      "source": [
        "def rosenbaum_test(x, y):\n",
        "    S1 = sum(xi > max(y) for xi in x)\n",
        "    S2 = sum(yi < min(x) for yi in y)\n",
        "    return S1 + S2\n",
        "\n",
        "Q = rosenbaum_test(df['I'], df['II'])\n",
        "Q_critical = 7\n",
        "\n",
        "print(f\"Q = {Q}, Критическое Q = {Q_critical}\")\n",
        "if Q >= Q_critical:\n",
        "    print(\"Вывод: различия значимы (p < 0.05)\")\n",
        "else:\n",
        "    print(\"Вывод: различия незначимы (p > 0.05)\")"
      ],
      "metadata": {
        "colab": {
          "base_uri": "https://localhost:8080/"
        },
        "id": "uzdJioDYGpAQ",
        "outputId": "3c18beec-56d9-45c5-f416-7efd52257f14"
      },
      "execution_count": null,
      "outputs": [
        {
          "output_type": "stream",
          "name": "stdout",
          "text": [
            "Q = 10, Критическое Q = 7\n",
            "Вывод: различия значимы (p < 0.05)\n"
          ]
        }
      ]
    },
    {
      "cell_type": "markdown",
      "source": [
        "### **Гипотезы:**\n",
        "- H0: Выборки из одного распределения.\n",
        "- H1: Выборки сдвинуты относительно друг друга.\n",
        "\n",
        "### Заключение:\n",
        "Так как Q = 10 > Qкрит, значит отвергаем H0\n",
        "Вывод: Выборки I и II имеют статистически значимые различия"
      ],
      "metadata": {
        "id": "t7D2wuiHIQtL"
      }
    },
    {
      "cell_type": "markdown",
      "source": [
        "\n",
        "\n",
        "---\n",
        "\n"
      ],
      "metadata": {
        "id": "76NPqguKLHsM"
      }
    },
    {
      "cell_type": "markdown",
      "source": [
        "## **Критерий Краскела-Уоллиса**  \n",
        "- **Гипотезы**:  \n",
        "  - H₀: Все группы имеют одинаковые распределения.  \n",
        "  - H₁: Хотя бы одна группа отличается.  \n",
        "- **Результат**: H = 9.911, p = 0.0070.  \n",
        "- **Вывод**: Различия между группами значимы (p < 0.05).  "
      ],
      "metadata": {
        "id": "JDS-FzcOK4xO"
      }
    },
    {
      "cell_type": "code",
      "source": [
        "from scipy.stats import kruskal\n",
        "\n",
        "H_stat, p_value = kruskal(df['I'], df['II'], df['III'])\n",
        "\n",
        "print(f\"Результаты теста Краскела-Уоллиса:\")\n",
        "print(f\"H-статистика = {H_stat:.3f}, p-value = {p_value:.4f}\")\n",
        "\n",
        "alpha = 0.05\n",
        "if p_value < alpha:\n",
        "    print(\"Вывод: Существуют статистически значимые различия между группами (p < 0.05)\")\n",
        "else:\n",
        "    print(\"Вывод: Статистически значимых различий между группами не обнаружено (p > 0.05)\")"
      ],
      "metadata": {
        "colab": {
          "base_uri": "https://localhost:8080/"
        },
        "id": "oyZARmqQKmng",
        "outputId": "aceece9b-7759-4445-c2cf-db0d83e9d039"
      },
      "execution_count": null,
      "outputs": [
        {
          "output_type": "stream",
          "name": "stdout",
          "text": [
            "Результаты теста Краскела-Уоллиса:\n",
            "H-статистика = 9.911, p-value = 0.0070\n",
            "Вывод: Существуют статистически значимые различия между группами (p < 0.05)\n"
          ]
        }
      ]
    },
    {
      "cell_type": "markdown",
      "source": [
        "## **Критерий Вилкоксона (I vs II)**\n",
        "\n",
        "**Гипотезы**:  \n",
        "- H₀: Медиана разностей между I и II равна нулю.  \n",
        "- H₁: Медиана разностей не равна нулю.  \n",
        "\n",
        "**Результаты**:  \n",
        "- W = 0.000, p = 0.0005  \n",
        "- Все значения в I строго больше, чем в II.  \n",
        "\n",
        "**Результат**: Все значения в группе I строго больше, чем в группе II (W = 0, p < 0.001).  \n",
        "\n",
        "**Вывод**:  \n",
        "Отвергаем H₀ (p < 0.05). Существует статистически значимый положительный сдвиг от II к I.  "
      ],
      "metadata": {
        "id": "swcXc8-dNC4G"
      }
    },
    {
      "cell_type": "code",
      "source": [
        "from scipy.stats import wilcoxon\n",
        "\n",
        "stat, p = wilcoxon(df['I'], df['II'])\n",
        "\n",
        "print(f\"Статистика: {stat:.3f}, p-value: {p:.4f}\")\n",
        "\n",
        "alpha = 0.05\n",
        "if p < alpha:\n",
        "    print(\"Отвергаем H₀: есть статистически значимый сдвиг\")\n",
        "else:\n",
        "    print(\"Не отвергаем H₀: сдвиг незначим\")"
      ],
      "metadata": {
        "colab": {
          "base_uri": "https://localhost:8080/"
        },
        "id": "hXHBgU-lMGou",
        "outputId": "135b6918-072c-4a3c-8b47-f7af68b23fe1"
      },
      "execution_count": null,
      "outputs": [
        {
          "output_type": "stream",
          "name": "stdout",
          "text": [
            "Статистика: 0.000, p-value: 0.0005\n",
            "Отвергаем H₀: есть статистически значимый сдвиг\n"
          ]
        }
      ]
    },
    {
      "cell_type": "code",
      "source": [
        "import matplotlib.pyplot as plt\n",
        "\n",
        "plt.figure(figsize=(8,4))\n",
        "plt.plot(df['I'], label='Первое измерение')\n",
        "plt.plot(df['II'], label='Второе измерение')\n",
        "plt.title(\"Сравнение двух измерений\")\n",
        "plt.legend()\n",
        "plt.show()"
      ],
      "metadata": {
        "colab": {
          "base_uri": "https://localhost:8080/",
          "height": 391
        },
        "collapsed": true,
        "id": "SgRWUeNDMY-J",
        "outputId": "0609c7f4-855b-46ad-e46c-8244f4849197"
      },
      "execution_count": null,
      "outputs": [
        {
          "output_type": "display_data",
          "data": {
            "text/plain": [
              "<Figure size 800x400 with 1 Axes>"
            ],
            "image/png": "[encoded data removed]"
          },
          "metadata": {}
        }
      ]
    },
    {
      "cell_type": "markdown",
      "source": [
        "### **Критерий Пейджа (n=12, k=3)**\n",
        "\n",
        "**Расчёт**:\n",
        "- Суммы рангов:\n",
        "  - I (j=1): 34.0  \n",
        "  - II (j=2): 13.0  \n",
        "  - III (j=3): 25.0  \n",
        "\n",
        "**Критические значения** (из таблицы):\n",
        "- α=0.05: 153  \n",
        "- α=0.01: 156  \n",
        "- α=0.001: 160  \n",
        "\n",
        "**Результат**:  \n",
        "135.0 < 153 → **тренд незначим** (p > 0.05)\n",
        "\n",
        "**Вывод**:  \n",
        "Нет статистически значимого монотонного тренда между замерами I, II и III."
      ],
      "metadata": {
        "id": "OiMD2bBqSP9j"
      }
    },
    {
      "cell_type": "code",
      "source": [
        "ranks = df.rank(axis=1, method='average')\n",
        "print(\"Ранги:\")\n",
        "print(ranks.head())"
      ],
      "metadata": {
        "colab": {
          "base_uri": "https://localhost:8080/"
        },
        "id": "MQjCdZ-bOXU_",
        "outputId": "0d752aa9-89de-49fa-9fd6-6432bfef37c5"
      },
      "execution_count": null,
      "outputs": [
        {
          "output_type": "stream",
          "name": "stdout",
          "text": [
            "Ранги:\n",
            "     I   II  III\n",
            "0  3.0  1.0  2.0\n",
            "1  3.0  1.0  2.0\n",
            "2  3.0  2.0  1.0\n",
            "3  2.0  1.0  3.0\n",
            "4  2.0  1.0  3.0\n"
          ]
        }
      ]
    },
    {
      "cell_type": "code",
      "source": [
        "R = ranks.sum()\n",
        "print(\"\\nСуммы рангов:\")\n",
        "print(R)"
      ],
      "metadata": {
        "colab": {
          "base_uri": "https://localhost:8080/"
        },
        "id": "j4g8wc5BOmrQ",
        "outputId": "d8672080-d603-4990-e681-9008cf554a6e"
      },
      "execution_count": null,
      "outputs": [
        {
          "output_type": "stream",
          "name": "stdout",
          "text": [
            "\n",
            "Суммы рангов:\n",
            "I      34.0\n",
            "II     13.0\n",
            "III    25.0\n",
            "dtype: float64\n"
          ]
        }
      ]
    },
    {
      "cell_type": "code",
      "source": [
        "import numpy as np\n",
        "\n",
        "n = len(df)\n",
        "k = 3\n",
        "\n",
        "weights = np.array([1, 2, 3])\n",
        "L = np.dot(R.values, weights)\n",
        "\n",
        "print(f\"\\nСтатистика Пейджа: L = {L}\")"
      ],
      "metadata": {
        "colab": {
          "base_uri": "https://localhost:8080/"
        },
        "id": "xZAf2d8LOpye",
        "outputId": "45b21629-cc0e-4edb-9ce5-597f51d11cfc"
      },
      "execution_count": null,
      "outputs": [
        {
          "output_type": "stream",
          "name": "stdout",
          "text": [
            "\n",
            "Статистика Пейджа: L = 135.0\n"
          ]
        }
      ]
    },
    {
      "cell_type": "code",
      "source": [
        "L_crit_05 = 153\n",
        "if L >= L_crit_05:\n",
        "    print(f\"L = {L} >= {L_crit_05}: тренд значим (p < 0.05)\")\n",
        "else:\n",
        "    print(f\"L = {L} < {L_crit_05}: тренд незначим\")"
      ],
      "metadata": {
        "colab": {
          "base_uri": "https://localhost:8080/"
        },
        "id": "z5gdh3RjPN9D",
        "outputId": "e3c126ad-2201-46c8-9b73-5689ba40f6d5"
      },
      "execution_count": null,
      "outputs": [
        {
          "output_type": "stream",
          "name": "stdout",
          "text": [
            "L = 135.0 < 153: тренд незначим\n"
          ]
        }
      ]
    }
  ]
}