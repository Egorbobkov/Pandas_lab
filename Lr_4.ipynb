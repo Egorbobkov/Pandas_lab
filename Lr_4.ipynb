{
  "nbformat": 4,
  "nbformat_minor": 0,
  "metadata": {
    "colab": {
      "provenance": []
    },
    "kernelspec": {
      "name": "python3",
      "display_name": "Python 3"
    },
    "language_info": {
      "name": "python"
    }
  },
  "cells": [
    {
      "cell_type": "code",
      "execution_count": null,
      "metadata": {
        "id": "B8uSplOMq2ig"
      },
      "outputs": [],
      "source": [
        "import pandas as pd\n",
        "import matplotlib.pyplot as plt\n",
        "import seaborn as sns\n",
        "import scipy.stats as stats"
      ]
    },
    {
      "cell_type": "code",
      "source": [
        "data = pd.read_csv('/content/shops.csv')"
      ],
      "metadata": {
        "id": "9SJj3cmHr84p"
      },
      "execution_count": null,
      "outputs": []
    },
    {
      "cell_type": "code",
      "source": [
        "data.head()"
      ],
      "metadata": {
        "colab": {
          "base_uri": "https://localhost:8080/",
          "height": 204
        },
        "id": "bH8m3bzosu8x",
        "outputId": "011aaab1-fbaa-40eb-83cf-498a7ba5949c"
      },
      "execution_count": null,
      "outputs": [
        {
          "output_type": "execute_result",
          "data": {
            "text/plain": [
              "        food   price        store  origin\n",
              "0  chocolate  100.30  supermarket  russia\n",
              "1  chocolate   55.57   minimarket  russia\n",
              "2  chocolate  268.62   minimarket  import\n",
              "3  chocolate  196.81  supermarket  import\n",
              "4      bread   10.91   minimarket  russia"
            ],
            "text/html": [
              "\n",
              "  <div id=\"df-aa7a9a27-670d-49ff-9e1b-7892856a9fde\" class=\"colab-df-container\">\n",
              "    <div>\n",
              "<style scoped>\n",
              "    .dataframe tbody tr th:only-of-type {\n",
              "        vertical-align: middle;\n",
              "    }\n",
              "\n",
              "    .dataframe tbody tr th {\n",
              "        vertical-align: top;\n",
              "    }\n",
              "\n",
              "    .dataframe thead th {\n",
              "        text-align: right;\n",
              "    }\n",
              "</style>\n",
              "<table border=\"1\" class=\"dataframe\">\n",
              "  <thead>\n",
              "    <tr style=\"text-align: right;\">\n",
              "      <th></th>\n",
              "      <th>food</th>\n",
              "      <th>price</th>\n",
              "      <th>store</th>\n",
              "      <th>origin</th>\n",
              "    </tr>\n",
              "  </thead>\n",
              "  <tbody>\n",
              "    <tr>\n",
              "      <th>0</th>\n",
              "      <td>chocolate</td>\n",
              "      <td>100.30</td>\n",
              "      <td>supermarket</td>\n",
              "      <td>russia</td>\n",
              "    </tr>\n",
              "    <tr>\n",
              "      <th>1</th>\n",
              "      <td>chocolate</td>\n",
              "      <td>55.57</td>\n",
              "      <td>minimarket</td>\n",
              "      <td>russia</td>\n",
              "    </tr>\n",
              "    <tr>\n",
              "      <th>2</th>\n",
              "      <td>chocolate</td>\n",
              "      <td>268.62</td>\n",
              "      <td>minimarket</td>\n",
              "      <td>import</td>\n",
              "    </tr>\n",
              "    <tr>\n",
              "      <th>3</th>\n",
              "      <td>chocolate</td>\n",
              "      <td>196.81</td>\n",
              "      <td>supermarket</td>\n",
              "      <td>import</td>\n",
              "    </tr>\n",
              "    <tr>\n",
              "      <th>4</th>\n",
              "      <td>bread</td>\n",
              "      <td>10.91</td>\n",
              "      <td>minimarket</td>\n",
              "      <td>russia</td>\n",
              "    </tr>\n",
              "  </tbody>\n",
              "</table>\n",
              "</div>\n",
              "    <div class=\"colab-df-buttons\">\n",
              "\n",
              "  <div class=\"colab-df-container\">\n",
              "    <button class=\"colab-df-convert\" onclick=\"convertToInteractive('df-aa7a9a27-670d-49ff-9e1b-7892856a9fde')\"\n",
              "            title=\"Convert this dataframe to an interactive table.\"\n",
              "            style=\"display:none;\">\n",
              "\n",
              "  <svg xmlns=\"http://www.w3.org/2000/svg\" height=\"24px\" viewBox=\"0 -960 960 960\">\n",
              "    <path d=\"M120-120v-720h720v720H120Zm60-500h600v-160H180v160Zm220 220h160v-160H400v160Zm0 220h160v-160H400v160ZM180-400h160v-160H180v160Zm440 0h160v-160H620v160ZM180-180h160v-160H180v160Zm440 0h160v-160H620v160Z\"/>\n",
              "  </svg>\n",
              "    </button>\n",
              "\n",
              "  <style>\n",
              "    .colab-df-container {\n",
              "      display:flex;\n",
              "      gap: 12px;\n",
              "    }\n",
              "\n",
              "    .colab-df-convert {\n",
              "      background-color: #E8F0FE;\n",
              "      border: none;\n",
              "      border-radius: 50%;\n",
              "      cursor: pointer;\n",
              "      display: none;\n",
              "      fill: #1967D2;\n",
              "      height: 32px;\n",
              "      padding: 0 0 0 0;\n",
              "      width: 32px;\n",
              "    }\n",
              "\n",
              "    .colab-df-convert:hover {\n",
              "      background-color: #E2EBFA;\n",
              "      box-shadow: 0px 1px 2px rgba(60, 64, 67, 0.3), 0px 1px 3px 1px rgba(60, 64, 67, 0.15);\n",
              "      fill: #174EA6;\n",
              "    }\n",
              "\n",
              "    .colab-df-buttons div {\n",
              "      margin-bottom: 4px;\n",
              "    }\n",
              "\n",
              "    [theme=dark] .colab-df-convert {\n",
              "      background-color: #3B4455;\n",
              "      fill: #D2E3FC;\n",
              "    }\n",
              "\n",
              "    [theme=dark] .colab-df-convert:hover {\n",
              "      background-color: #434B5C;\n",
              "      box-shadow: 0px 1px 3px 1px rgba(0, 0, 0, 0.15);\n",
              "      filter: drop-shadow(0px 1px 2px rgba(0, 0, 0, 0.3));\n",
              "      fill: #FFFFFF;\n",
              "    }\n",
              "  </style>\n",
              "\n",
              "    <script>\n",
              "      const buttonEl =\n",
              "        document.querySelector('#df-aa7a9a27-670d-49ff-9e1b-7892856a9fde button.colab-df-convert');\n",
              "      buttonEl.style.display =\n",
              "        google.colab.kernel.accessAllowed ? 'block' : 'none';\n",
              "\n",
              "      async function convertToInteractive(key) {\n",
              "        const element = document.querySelector('#df-aa7a9a27-670d-49ff-9e1b-7892856a9fde');\n",
              "        const dataTable =\n",
              "          await google.colab.kernel.invokeFunction('convertToInteractive',\n",
              "                                                    [key], {});\n",
              "        if (!dataTable) return;\n",
              "\n",
              "        const docLinkHtml = 'Like what you see? Visit the ' +\n",
              "          '<a target=\"_blank\" href=https://colab.research.google.com/notebooks/data_table.ipynb>data table notebook</a>'\n",
              "          + ' to learn more about interactive tables.';\n",
              "        element.innerHTML = '';\n",
              "        dataTable['output_type'] = 'display_data';\n",
              "        await google.colab.output.renderOutput(dataTable, element);\n",
              "        const docLink = document.createElement('div');\n",
              "        docLink.innerHTML = docLinkHtml;\n",
              "        element.appendChild(docLink);\n",
              "      }\n",
              "    </script>\n",
              "  </div>\n",
              "\n",
              "\n",
              "<div id=\"df-68f9e7c3-1db2-46b0-9c72-8a0202e195e9\">\n",
              "  <button class=\"colab-df-quickchart\" onclick=\"quickchart('df-68f9e7c3-1db2-46b0-9c72-8a0202e195e9')\"\n",
              "            title=\"Suggest charts\"\n",
              "            style=\"display:none;\">\n",
              "\n",
              "<svg xmlns=\"http://www.w3.org/2000/svg\" height=\"24px\"viewBox=\"0 0 24 24\"\n",
              "     width=\"24px\">\n",
              "    <g>\n",
              "        <path d=\"M19 3H5c-1.1 0-2 .9-2 2v14c0 1.1.9 2 2 2h14c1.1 0 2-.9 2-2V5c0-1.1-.9-2-2-2zM9 17H7v-7h2v7zm4 0h-2V7h2v10zm4 0h-2v-4h2v4z\"/>\n",
              "    </g>\n",
              "</svg>\n",
              "  </button>\n",
              "\n",
              "<style>\n",
              "  .colab-df-quickchart {\n",
              "      --bg-color: #E8F0FE;\n",
              "      --fill-color: #1967D2;\n",
              "      --hover-bg-color: #E2EBFA;\n",
              "      --hover-fill-color: #174EA6;\n",
              "      --disabled-fill-color: #AAA;\n",
              "      --disabled-bg-color: #DDD;\n",
              "  }\n",
              "\n",
              "  [theme=dark] .colab-df-quickchart {\n",
              "      --bg-color: #3B4455;\n",
              "      --fill-color: #D2E3FC;\n",
              "      --hover-bg-color: #434B5C;\n",
              "      --hover-fill-color: #FFFFFF;\n",
              "      --disabled-bg-color: #3B4455;\n",
              "      --disabled-fill-color: #666;\n",
              "  }\n",
              "\n",
              "  .colab-df-quickchart {\n",
              "    background-color: var(--bg-color);\n",
              "    border: none;\n",
              "    border-radius: 50%;\n",
              "    cursor: pointer;\n",
              "    display: none;\n",
              "    fill: var(--fill-color);\n",
              "    height: 32px;\n",
              "    padding: 0;\n",
              "    width: 32px;\n",
              "  }\n",
              "\n",
              "  .colab-df-quickchart:hover {\n",
              "    background-color: var(--hover-bg-color);\n",
              "    box-shadow: 0 1px 2px rgba(60, 64, 67, 0.3), 0 1px 3px 1px rgba(60, 64, 67, 0.15);\n",
              "    fill: var(--button-hover-fill-color);\n",
              "  }\n",
              "\n",
              "  .colab-df-quickchart-complete:disabled,\n",
              "  .colab-df-quickchart-complete:disabled:hover {\n",
              "    background-color: var(--disabled-bg-color);\n",
              "    fill: var(--disabled-fill-color);\n",
              "    box-shadow: none;\n",
              "  }\n",
              "\n",
              "  .colab-df-spinner {\n",
              "    border: 2px solid var(--fill-color);\n",
              "    border-color: transparent;\n",
              "    border-bottom-color: var(--fill-color);\n",
              "    animation:\n",
              "      spin 1s steps(1) infinite;\n",
              "  }\n",
              "\n",
              "  @keyframes spin {\n",
              "    0% {\n",
              "      border-color: transparent;\n",
              "      border-bottom-color: var(--fill-color);\n",
              "      border-left-color: var(--fill-color);\n",
              "    }\n",
              "    20% {\n",
              "      border-color: transparent;\n",
              "      border-left-color: var(--fill-color);\n",
              "      border-top-color: var(--fill-color);\n",
              "    }\n",
              "    30% {\n",
              "      border-color: transparent;\n",
              "      border-left-color: var(--fill-color);\n",
              "      border-top-color: var(--fill-color);\n",
              "      border-right-color: var(--fill-color);\n",
              "    }\n",
              "    40% {\n",
              "      border-color: transparent;\n",
              "      border-right-color: var(--fill-color);\n",
              "      border-top-color: var(--fill-color);\n",
              "    }\n",
              "    60% {\n",
              "      border-color: transparent;\n",
              "      border-right-color: var(--fill-color);\n",
              "    }\n",
              "    80% {\n",
              "      border-color: transparent;\n",
              "      border-right-color: var(--fill-color);\n",
              "      border-bottom-color: var(--fill-color);\n",
              "    }\n",
              "    90% {\n",
              "      border-color: transparent;\n",
              "      border-bottom-color: var(--fill-color);\n",
              "    }\n",
              "  }\n",
              "</style>\n",
              "\n",
              "  <script>\n",
              "    async function quickchart(key) {\n",
              "      const quickchartButtonEl =\n",
              "        document.querySelector('#' + key + ' button');\n",
              "      quickchartButtonEl.disabled = true;  // To prevent multiple clicks.\n",
              "      quickchartButtonEl.classList.add('colab-df-spinner');\n",
              "      try {\n",
              "        const charts = await google.colab.kernel.invokeFunction(\n",
              "            'suggestCharts', [key], {});\n",
              "      } catch (error) {\n",
              "        console.error('Error during call to suggestCharts:', error);\n",
              "      }\n",
              "      quickchartButtonEl.classList.remove('colab-df-spinner');\n",
              "      quickchartButtonEl.classList.add('colab-df-quickchart-complete');\n",
              "    }\n",
              "    (() => {\n",
              "      let quickchartButtonEl =\n",
              "        document.querySelector('#df-68f9e7c3-1db2-46b0-9c72-8a0202e195e9 button');\n",
              "      quickchartButtonEl.style.display =\n",
              "        google.colab.kernel.accessAllowed ? 'block' : 'none';\n",
              "    })();\n",
              "  </script>\n",
              "</div>\n",
              "    </div>\n",
              "  </div>\n"
            ],
            "application/vnd.google.colaboratory.intrinsic+json": {
              "type": "dataframe",
              "variable_name": "data",
              "summary": "{\n  \"name\": \"data\",\n  \"rows\": 20,\n  \"fields\": [\n    {\n      \"column\": \"food\",\n      \"properties\": {\n        \"dtype\": \"category\",\n        \"num_unique_values\": 5,\n        \"samples\": [\n          \"bread\",\n          \"cheese\",\n          \"vegetables\"\n        ],\n        \"semantic_type\": \"\",\n        \"description\": \"\"\n      }\n    },\n    {\n      \"column\": \"price\",\n      \"properties\": {\n        \"dtype\": \"number\",\n        \"std\": 135.49835945695546,\n        \"min\": 10.91,\n        \"max\": 504.0,\n        \"num_unique_values\": 20,\n        \"samples\": [\n          100.3,\n          278.86,\n          400.17\n        ],\n        \"semantic_type\": \"\",\n        \"description\": \"\"\n      }\n    },\n    {\n      \"column\": \"store\",\n      \"properties\": {\n        \"dtype\": \"category\",\n        \"num_unique_values\": 2,\n        \"samples\": [\n          \"minimarket\",\n          \"supermarket\"\n        ],\n        \"semantic_type\": \"\",\n        \"description\": \"\"\n      }\n    },\n    {\n      \"column\": \"origin\",\n      \"properties\": {\n        \"dtype\": \"category\",\n        \"num_unique_values\": 2,\n        \"samples\": [\n          \"import\",\n          \"russia\"\n        ],\n        \"semantic_type\": \"\",\n        \"description\": \"\"\n      }\n    }\n  ]\n}"
            }
          },
          "metadata": {},
          "execution_count": 4
        }
      ]
    },
    {
      "cell_type": "code",
      "source": [
        "data.shape"
      ],
      "metadata": {
        "colab": {
          "base_uri": "https://localhost:8080/"
        },
        "id": "TNWAXVNZs1NE",
        "outputId": "4f0c2388-2973-4072-ae36-e8ffcfea5ae7"
      },
      "execution_count": null,
      "outputs": [
        {
          "output_type": "execute_result",
          "data": {
            "text/plain": [
              "(20, 4)"
            ]
          },
          "metadata": {},
          "execution_count": 5
        }
      ]
    },
    {
      "cell_type": "code",
      "source": [
        "data.info()"
      ],
      "metadata": {
        "colab": {
          "base_uri": "https://localhost:8080/"
        },
        "id": "9s7p8ySLs3ZY",
        "outputId": "d8276d62-9e9c-40aa-9bd4-4b2b394fcb0a"
      },
      "execution_count": null,
      "outputs": [
        {
          "output_type": "stream",
          "name": "stdout",
          "text": [
            "<class 'pandas.core.frame.DataFrame'>\n",
            "RangeIndex: 20 entries, 0 to 19\n",
            "Data columns (total 4 columns):\n",
            " #   Column  Non-Null Count  Dtype  \n",
            "---  ------  --------------  -----  \n",
            " 0   food    20 non-null     object \n",
            " 1   price   20 non-null     float64\n",
            " 2   store   20 non-null     object \n",
            " 3   origin  20 non-null     object \n",
            "dtypes: float64(1), object(3)\n",
            "memory usage: 772.0+ bytes\n"
          ]
        }
      ]
    },
    {
      "cell_type": "markdown",
      "source": [
        "### Зависимая переменная это ценна, потому что мы ее иследуем.\n",
        "\n",
        "### Независимые переменные это:\n",
        "- ### Тип магазина (store)\n",
        "- ### Страна (origin)\n",
        "- ### Тип продукта (food)\n",
        "\n",
        "### Так как цена товаров может зависеть от типа магазина, страны происхождения и категории товара.\n",
        "\n"
      ],
      "metadata": {
        "id": "z2yEl-AsuHX3"
      }
    },
    {
      "cell_type": "code",
      "source": [
        "plt.figure(figsize=(13, 6))\n",
        "\n",
        "plt.subplot(1, 3, 1)\n",
        "sns.boxplot(x='store', y='price', data = data)\n",
        "plt.title('Зависимость цены от типа магазина')\n",
        "\n",
        "plt.subplot(1, 3, 2)\n",
        "sns.boxplot(x='origin', y='price', data = data)\n",
        "plt.title('Зависимость цены от страны')\n",
        "\n",
        "plt.subplot(1, 3, 3)\n",
        "sns.boxplot(x='food', y='price', data = data)\n",
        "plt.title('Зависимость цены от типа продукта')\n",
        "\n",
        "plt.tight_layout()\n",
        "plt.show()"
      ],
      "metadata": {
        "colab": {
          "base_uri": "https://localhost:8080/",
          "height": 607
        },
        "id": "T4mQJEj7uXrm",
        "outputId": "c90fe084-f474-45c9-fd78-b6980dbead86"
      },
      "execution_count": null,
      "outputs": [
        {
          "output_type": "display_data",
          "data": {
            "text/plain": [
              "<Figure size 1300x600 with 3 Axes>"
            ],
            "image/png": "[encoded data removed]"
          },
          "metadata": {}
        }
      ]
    },
    {
      "cell_type": "code",
      "source": [
        "group_store = data.groupby('store')['price'].apply(list)\n",
        "group_origin = data.groupby('origin')['price'].apply(list)\n",
        "group_food = data.groupby('food')['price'].apply(list)\n",
        "\n",
        "print(group_store)\n",
        "print(group_origin)\n",
        "print(group_food)"
      ],
      "metadata": {
        "colab": {
          "base_uri": "https://localhost:8080/"
        },
        "id": "xgMV06sD0R2e",
        "outputId": "6a9f98c7-ab21-4b5a-a644-d2d90c1f88e5"
      },
      "execution_count": null,
      "outputs": [
        {
          "output_type": "stream",
          "name": "stdout",
          "text": [
            "store\n",
            "minimarket     [55.57, 268.62, 10.91, 64.93, 116.23, 359.0, 8...\n",
            "supermarket    [100.3, 196.81, 25.84, 35.44, 226.39, 209.15, ...\n",
            "Name: price, dtype: object\n",
            "origin\n",
            "import    [268.62, 196.81, 35.44, 116.23, 209.15, 359.0,...\n",
            "russia    [100.3, 55.57, 10.91, 25.84, 64.93, 226.39, 85...\n",
            "Name: price, dtype: object\n",
            "food\n",
            "bread           [10.91, 25.84, 35.44, 116.23]\n",
            "cheese        [184.56, 278.86, 333.21, 504.0]\n",
            "chocolate      [100.3, 55.57, 268.62, 196.81]\n",
            "fruits        [85.84, 191.07, 208.59, 400.17]\n",
            "vegetables     [64.93, 226.39, 209.15, 359.0]\n",
            "Name: price, dtype: object\n"
          ]
        }
      ]
    },
    {
      "cell_type": "markdown",
      "source": [
        "### Проверка нормальности распределения цен в разных магазинах  \n",
        "\n",
        "Применим критерий Шапиро-Уилка для проверки гипотезы о нормальности распределения цен в каждой группе магазинов.  \n",
        "\n",
        "**Постановка гипотез:**  \n",
        "- **H₀ (нулевая гипотеза):** Цены в магазине распределены нормально.  \n",
        "- **H₁ (альтернативная гипотеза):** Цены в магазине не подчиняются нормальному распределению.  \n",
        "\n",
        "Если p > 0.05, мы не отвергаем нулевую гипотезу, значит, цены могут быть нормально распределены.  \n",
        "Если p ≤ 0.05, отвергаем H₀ в пользу H₁, значит, данные не распределены нормально.\n"
      ],
      "metadata": {
        "id": "nGG_dzeclLe1"
      }
    },
    {
      "cell_type": "code",
      "source": [
        "from scipy.stats import shapiro\n",
        "\n",
        "alpha = 0.05\n",
        "\n",
        "for store, prices in group_store.items():\n",
        "    stat, p = shapiro(prices)\n",
        "    print(stat, p)\n",
        "\n",
        "    if p > alpha:\n",
        "        print('Признак распределён нормально')\n",
        "    else:\n",
        "        print('Признак не распределён нормально')"
      ],
      "metadata": {
        "colab": {
          "base_uri": "https://localhost:8080/"
        },
        "id": "SK-Op5rq3uVI",
        "outputId": "d0135c94-6273-4e58-e457-92731daafc86"
      },
      "execution_count": null,
      "outputs": [
        {
          "output_type": "stream",
          "name": "stdout",
          "text": [
            "0.9119603980685513 0.29473021084640305\n",
            "Признак распределён нормально\n",
            "0.9253359830226551 0.40361273494915\n",
            "Признак распределён нормально\n"
          ]
        }
      ]
    },
    {
      "cell_type": "markdown",
      "source": [
        "### Проверка нормальности распределения цен по странам происхождения  \n",
        "\n",
        "Применяем критерий Шапиро-Уилка для проверки гипотезы о нормальности распределения цен в каждой группе, основанной на стране происхождения товара.  \n",
        "\n",
        "**Постановка гипотез:**  \n",
        "- **H₀ (нулевая гипотеза):** Цены товаров в каждой стране происхождения распределены нормально.  \n",
        "- **H₁ (альтернативная гипотеза):** Цены товаров в каждой стране происхождения не подчиняются нормальному распределению.  \n",
        "\n",
        "Если p > 0.05, мы не отвергаем H₀, что указывает на возможную нормальность распределения.  \n",
        "Если p ≤ 0.05, отвергаем H₀ в пользу H₁, это значит что распределение цен ненормально.\n"
      ],
      "metadata": {
        "id": "CR-a5RM2lm9I"
      }
    },
    {
      "cell_type": "code",
      "source": [
        "alpha = 0.05\n",
        "for origin, prices in group_origin.items():\n",
        "    stat, p = shapiro(prices)\n",
        "    print(stat, p)\n",
        "\n",
        "    if p > alpha:\n",
        "        print('Признак распределён нормально')\n",
        "    else:\n",
        "        print('Признак не распределён нормально')\n"
      ],
      "metadata": {
        "colab": {
          "base_uri": "https://localhost:8080/"
        },
        "id": "gY7uD3QkEjvU",
        "outputId": "69ca1428-d815-40aa-9bfb-f8be8dfc9e33"
      },
      "execution_count": null,
      "outputs": [
        {
          "output_type": "stream",
          "name": "stdout",
          "text": [
            "0.9850644912954005 0.9864793505130488\n",
            "Признак распределён нормально\n",
            "0.9203949844704954 0.3602610065311407\n",
            "Признак распределён нормально\n"
          ]
        }
      ]
    },
    {
      "cell_type": "markdown",
      "source": [
        "### Проверка нормальности распределения цен по типу продукта  \n",
        "\n",
        "Применяем критерий Шапиро-Уилка для оценки нормальности распределения цен в каждой группе, основанной на категории продукта.  \n",
        "\n",
        "**Постановка гипотез:**  \n",
        "- **H₀ (нулевая гипотеза):** Цены для каждого типа продукта распределены нормально.  \n",
        "- **H₁ (альтернативная гипотеза):** Цены для каждого типа продукта не подчиняются нормальному распределению.  \n",
        "\n",
        "Если p > 0.05, мы не отвергаем H₀, что может свидетельствовать о нормальности распределения.  \n",
        "Если p ≤ 0.05, отвергаем H₀ в пользу H₁, что означает, что цены распределены ненормально.\n"
      ],
      "metadata": {
        "id": "aSL_aS6_mImh"
      }
    },
    {
      "cell_type": "code",
      "source": [
        "alpha = 0.05\n",
        "for food, prices in group_food.items():\n",
        "    stat, p = shapiro(prices)\n",
        "    print(stat, p)\n",
        "\n",
        "    if p > alpha:\n",
        "        print('Признак распределён нормально')\n",
        "    else:\n",
        "        print('Признак не распределён нормально')\n"
      ],
      "metadata": {
        "colab": {
          "base_uri": "https://localhost:8080/"
        },
        "id": "3Vmx3fb9FKy9",
        "outputId": "7f56e547-04f7-4515-97db-c508655de62b"
      },
      "execution_count": null,
      "outputs": [
        {
          "output_type": "stream",
          "name": "stdout",
          "text": [
            "0.8197216894349117 0.14255000875144203\n",
            "Признак распределён нормально\n",
            "0.9682779324377635 0.8307919609578589\n",
            "Признак распределён нормально\n",
            "0.9586891558198813 0.770659545256112\n",
            "Признак распределён нормально\n",
            "0.9322503998367382 0.6076881279492681\n",
            "Признак распределён нормально\n",
            "0.9675825458236845 0.8264607309625542\n",
            "Признак распределён нормально\n"
          ]
        }
      ]
    },
    {
      "cell_type": "markdown",
      "source": [
        "### Проверка однородности дисперсий цен в разных магазинах  \n",
        "\n",
        "Применяем тест Бартлетта для проверки гипотезы о равенстве дисперсий цен в группах, основанных на магазине.  \n",
        "\n",
        "**Постановка гипотез:**  \n",
        "- **H₀ (нулевая гипотеза):** Дисперсии цен во всех магазинах равны.  \n",
        "- **H₁ (альтернативная гипотеза):** Дисперсии цен в разных магазинах различаются.  \n",
        "\n",
        "Если p > 0.05, мы не отвергаем H₀, что означает, что дисперсии можно считать равными.  \n",
        "Если p ≤ 0.05, отвергаем H₀, что свидетельствует о значительных различиях в дисперсиях между магазинами.\n"
      ],
      "metadata": {
        "id": "EOsesEewmZ-x"
      }
    },
    {
      "cell_type": "code",
      "source": [
        "from scipy.stats import bartlett\n",
        "\n",
        "stat, p = bartlett(*group_store)\n",
        "\n",
        "print(stat, p)\n",
        "\n",
        "alpha = 0.05\n",
        "if p > alpha:\n",
        "    print('Дисперсии равны (не отвергаем H₀)')\n",
        "else:\n",
        "    print('Дисперсии различаются (отвергаем H₀)')\n"
      ],
      "metadata": {
        "colab": {
          "base_uri": "https://localhost:8080/"
        },
        "id": "WnBfRmoh4RjH",
        "outputId": "34c3a693-ae12-42c3-df8c-92bbd10ff2cc"
      },
      "execution_count": null,
      "outputs": [
        {
          "output_type": "stream",
          "name": "stdout",
          "text": [
            "2.3226976328888895 0.1274987430028709\n",
            "Дисперсии равны (не отвергаем H₀)\n"
          ]
        }
      ]
    },
    {
      "cell_type": "markdown",
      "source": [
        "### Проверка однородности дисперсий цен по странам происхождения  \n",
        "\n",
        "Используем тест Бартлетта для проверки равенства дисперсий цен среди различных стран происхождения товаров.  \n",
        "\n",
        "**Постановка гипотез:**  \n",
        "- **H₀ (нулевая гипотеза):** Дисперсии цен в разных странах равны.  \n",
        "- **H₁ (альтернативная гипотеза):** Дисперсии цен различаются в зависимости от страны происхождения.  \n",
        "\n",
        "Если p > 0.05, мы не отвергаем H₀, что означает, что разброс цен в странах можно считать одинаковым.  \n",
        "Если p ≤ 0.05, отвергаем H₀, что указывает на статистически значимые различия в дисперсиях.\n"
      ],
      "metadata": {
        "id": "ntvGOXs2mmt1"
      }
    },
    {
      "cell_type": "code",
      "source": [
        "stat, p = bartlett(*group_origin)\n",
        "\n",
        "print(stat, p)\n",
        "\n",
        "alpha = 0.05\n",
        "if p > alpha:\n",
        "    print('Дисперсии равны (не отвергаем H₀)')\n",
        "else:\n",
        "    print('Дисперсии различаются (отвергаем H₀)')"
      ],
      "metadata": {
        "colab": {
          "base_uri": "https://localhost:8080/"
        },
        "id": "Jt1ahFQEFelP",
        "outputId": "a5fd3bf9-45c8-4fa7-e925-7c9d1072406c"
      },
      "execution_count": null,
      "outputs": [
        {
          "output_type": "stream",
          "name": "stdout",
          "text": [
            "1.393880374956271 0.23775088873414438\n",
            "Дисперсии равны (не отвергаем H₀)\n"
          ]
        }
      ]
    },
    {
      "cell_type": "markdown",
      "source": [
        "### Проверка однородности дисперсий цен по типу продукта  \n",
        "\n",
        "Применяем тест Бартлетта для оценки равенства дисперсий цен среди различных категорий продуктов.  \n",
        "\n",
        "**Постановка гипотез:**  \n",
        "- **H₀ (нулевая гипотеза):** Дисперсии цен для разных типов продуктов равны.  \n",
        "- **H₁ (альтернативная гипотеза):** Дисперсии цен различаются в зависимости от категории продукта.  \n",
        "\n",
        "Если p > 0.05, мы не отвергаем H₀, что означает, что разброс цен для разных продуктов примерно одинаков.  \n",
        "Если p ≤ 0.05, отвергаем H₀, что указывает на статистически значимые различия в дисперсиях между категориями продуктов\n"
      ],
      "metadata": {
        "id": "5WCkgpulm1lZ"
      }
    },
    {
      "cell_type": "code",
      "source": [
        "stat, p = bartlett(*group_food)\n",
        "\n",
        "print(stat, p)\n",
        "\n",
        "alpha = 0.05\n",
        "if p > alpha:\n",
        "    print('Дисперсии равны (не отвергаем H₀)')\n",
        "else:\n",
        "    print('Дисперсии различаются (отвергаем H₀)')"
      ],
      "metadata": {
        "colab": {
          "base_uri": "https://localhost:8080/"
        },
        "id": "WNsmAraGFkSv",
        "outputId": "d88ff426-2dc2-4f8f-ccff-c2cc17028baa"
      },
      "execution_count": null,
      "outputs": [
        {
          "output_type": "stream",
          "name": "stdout",
          "text": [
            "2.878138644422655 0.5784213012140524\n",
            "Дисперсии равны (не отвергаем H₀)\n"
          ]
        }
      ]
    },
    {
      "cell_type": "markdown",
      "source": [
        "### Проверка влияния типа магазина на цену\n",
        "\n",
        "Применяем однофакторный дисперсионный анализ для проверки влияния магазина на цену товаров.  \n",
        "\n",
        "**Постановка гипотез:**  \n",
        "- **H₀ (нулевая гипотеза):** Средние цены в разных магазинах не различаются, тип магазина не влияет на цену.  \n",
        "- **H₁ (альтернативная гипотеза):** Средние цены в разных магазинах различаются, тип магазина влияет на цену.  \n",
        "\n",
        "Если p > 0.05, мы не отвергаем H₀, что означает отсутствие статистически значимого влияния типа магазина на цену.  \n",
        "Если p ≤ 0.05, отвергаем H₀, что указывает на влияние типа магазина на цену.\n"
      ],
      "metadata": {
        "id": "S-nJcSJnnCjW"
      }
    },
    {
      "cell_type": "code",
      "source": [
        "from scipy.stats import f_oneway\n",
        "\n",
        "alpha = 0.05\n",
        "stat, p = f_oneway(*group_store)\n",
        "\n",
        "print(stat, p)\n",
        "\n",
        "if p > alpha:\n",
        "    print(\"Тип магазина не влияет на цену (не отвергаем H₀)\")\n",
        "else:\n",
        "    print(\"Тип магазина влияет на цену (отвергаем H₀)\")\n"
      ],
      "metadata": {
        "colab": {
          "base_uri": "https://localhost:8080/"
        },
        "id": "jyWwv3FTIHqX",
        "outputId": "3507b7c9-141b-4327-eb66-b8be91a5b084"
      },
      "execution_count": null,
      "outputs": [
        {
          "output_type": "stream",
          "name": "stdout",
          "text": [
            "0.1551431529821821 0.6982950712933294\n",
            "Тип магазина не влияет на цену (не отвергаем H₀)\n"
          ]
        }
      ]
    },
    {
      "cell_type": "code",
      "source": [
        "alpha = 0.05\n",
        "\n",
        "stat, p = f_oneway(*group_origin)\n",
        "\n",
        "print(stat, p)\n",
        "\n",
        "if p > alpha:\n",
        "    print(\"Страна-производитель не влияет на цену (не отвергаем H₀)\")\n",
        "else:\n",
        "    print(\"Страна-производитель влияет на цену (отвергаем H₀)\")\n"
      ],
      "metadata": {
        "colab": {
          "base_uri": "https://localhost:8080/"
        },
        "id": "00j-pyZwI_XM",
        "outputId": "858aaf0f-c40c-4494-b594-71ba9a1abd5e"
      },
      "execution_count": null,
      "outputs": [
        {
          "output_type": "stream",
          "name": "stdout",
          "text": [
            "6.649892032631297 0.01892578326891915\n",
            "Страна-производитель влияет на цену (отвергаем H₀)\n"
          ]
        }
      ]
    },
    {
      "cell_type": "code",
      "source": [
        "plt.figure(figsize=(10, 5))\n",
        "sns.pointplot(data=data, x='store', y='price', hue='origin', capsize=0.2)\n",
        "plt.title(\"Доверительные интервалы средних цен по типу магазина и стране\")\n",
        "plt.xlabel(\"Тип магазина\")\n",
        "plt.ylabel(\"Цена\")\n",
        "plt.legend(title=\"Страна\")\n",
        "plt.show()\n"
      ],
      "metadata": {
        "colab": {
          "base_uri": "https://localhost:8080/",
          "height": 487
        },
        "id": "kbu1g07aLEn8",
        "outputId": "57446fa0-f76e-4802-a1eb-6b5244aee867"
      },
      "execution_count": null,
      "outputs": [
        {
          "output_type": "display_data",
          "data": {
            "text/plain": [
              "<Figure size 1000x500 with 1 Axes>"
            ],
            "image/png": "[encoded data removed]"
          },
          "metadata": {}
        }
      ]
    },
    {
      "cell_type": "markdown",
      "source": [
        "### Двухфакторный дисперсионный анализ\n",
        "\n",
        "Применяем двухфакторный дисперсионный анализ для изучения влияния типа магазина и страны происхождения на цену товаров, а также их возможного взаимодействия.  \n",
        "\n",
        "**Модель включает в себя:**  \n",
        "- **C(store)** – влияние магазина на цену.  \n",
        "- **C(origin)** – влияние страны происхождения на цену.  \n",
        "- **C(store):C(origin)** – взаимодействие между магазином и страной происхождения.  \n",
        "\n",
        "**Постановка гипотез:**  \n",
        "- **H₀ (нулевая гипотеза):** Фактор (магазин, страна происхождения или их взаимодействие) не оказывает влияния на цену.  \n",
        "- **H₁ (альтернативная гипотеза):** Фактор оказывает значимое влияние на цену.  \n",
        "\n",
        "В таблице:  \n",
        "- Если p для фактора > 0.05 влияние этого фактора на цену не является статистически значимым.  \n",
        "- Если p ≤ 0.05 фактор оказывает значительное влияние на цену.  \n"
      ],
      "metadata": {
        "id": "gtcQ11eenN3B"
      }
    },
    {
      "cell_type": "code",
      "source": [
        "import statsmodels.api as sm\n",
        "from statsmodels.formula.api import ols\n",
        "\n",
        "model = ols('price ~ C(store) + C(origin) + C(store):C(origin)', data=data).fit()\n",
        "anova_table = sm.stats.anova_lm(model, typ=2)\n",
        "\n",
        "print(anova_table)\n"
      ],
      "metadata": {
        "colab": {
          "base_uri": "https://localhost:8080/"
        },
        "id": "Ir7_bBIlLijn",
        "outputId": "2615551e-80ff-473c-9e8d-7fe992e70c7e"
      },
      "execution_count": null,
      "outputs": [
        {
          "output_type": "stream",
          "name": "stdout",
          "text": [
            "                           sum_sq    df         F    PR(>F)\n",
            "C(store)              2980.949445   1.0  0.252394  0.622238\n",
            "C(origin)            94106.852405   1.0  7.967925  0.012252\n",
            "C(store):C(origin)   62777.133005   1.0  5.315272  0.034867\n",
            "Residual            188971.368040  16.0       NaN       NaN\n"
          ]
        }
      ]
    },
    {
      "cell_type": "code",
      "source": [
        "from scipy.stats import f_oneway\n",
        "\n",
        "stat, p = f_oneway(*group_food)\n",
        "print(stat, p)\n",
        "\n",
        "alpha = 0.05\n",
        "if p < alpha:\n",
        "    print(\"Тип продукции влияет на ценообразование (отвергаем H₀)\")\n",
        "else:\n",
        "    print(\"Тип продукции не влияет на ценообразование (не отвергаем H₀)\")\n"
      ],
      "metadata": {
        "colab": {
          "base_uri": "https://localhost:8080/"
        },
        "id": "Xh1eLdeCMjQr",
        "outputId": "5fc49ca5-4edb-43da-f6cc-372037bc0e57"
      },
      "execution_count": null,
      "outputs": [
        {
          "output_type": "stream",
          "name": "stdout",
          "text": [
            "3.3977807766676675 0.03617523023287855\n",
            "Тип продукции влияет на ценообразование (отвергаем H₀)\n"
          ]
        }
      ]
    },
    {
      "cell_type": "markdown",
      "source": [
        "###  Критерий Тьюки для множественных сравнений  \n",
        "\n",
        "Мы используем тест Тьюки для попарного сравнения средних цен среди различных категорий продуктов.  \n",
        "\n",
        "**Постановка гипотез:**  \n",
        "- **H₀ (нулевая гипотеза):** Средние цены между парами категорий продуктов не различаются.  \n",
        "- **H₁ (альтернативная гипотеза):** Средние цены между парами категорий продуктов различаются.  \n",
        "\n",
        "**Результаты:**  \n",
        "- Если p > 0.05 нет значимых различий между парами категорий.  \n",
        "- Если p ≤ 0.05 средние цены между парами категорий продуктов различаются на значимом уровне.  \n",
        "\n",
        "Результаты теста Тьюки помогут определить, какие именно категории продуктов имеют статистически значимые различия в ценах.\n"
      ],
      "metadata": {
        "id": "tUhpXLDdnjLj"
      }
    },
    {
      "cell_type": "code",
      "source": [
        "from statsmodels.stats.multicomp import pairwise_tukeyhsd\n",
        "\n",
        "tukey = pairwise_tukeyhsd(endog=data['price'], groups=data['food'], alpha=0.05)\n",
        "\n",
        "print(tukey.summary())\n"
      ],
      "metadata": {
        "colab": {
          "base_uri": "https://localhost:8080/"
        },
        "id": "GrQjmxSdM9ZG",
        "outputId": "bae4d654-4770-49a7-9516-c113d3b4b69b"
      },
      "execution_count": null,
      "outputs": [
        {
          "output_type": "stream",
          "name": "stdout",
          "text": [
            "      Multiple Comparison of Means - Tukey HSD, FWER=0.05      \n",
            "===============================================================\n",
            "  group1    group2    meandiff p-adj    lower    upper   reject\n",
            "---------------------------------------------------------------\n",
            "    bread     cheese  278.0525 0.0204   36.8694 519.2356   True\n",
            "    bread  chocolate    108.22 0.6454 -132.9631 349.4031  False\n",
            "    bread     fruits  174.3125 0.2209  -66.8706 415.4956  False\n",
            "    bread vegetables  167.7625 0.2513  -73.4206 408.9456  False\n",
            "   cheese  chocolate -169.8325 0.2414 -411.0156  71.3506  False\n",
            "   cheese     fruits   -103.74 0.6789 -344.9231 137.4431  False\n",
            "   cheese vegetables   -110.29 0.6297 -351.4731 130.8931  False\n",
            "chocolate     fruits   66.0925 0.9117 -175.0906 307.2756  False\n",
            "chocolate vegetables   59.5425 0.9375 -181.6406 300.7256  False\n",
            "   fruits vegetables     -6.55    1.0 -247.7331 234.6331  False\n",
            "---------------------------------------------------------------\n"
          ]
        }
      ]
    }
  ]
}